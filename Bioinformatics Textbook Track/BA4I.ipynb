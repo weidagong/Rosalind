{
 "cells": [
  {
   "cell_type": "markdown",
   "metadata": {},
   "source": [
    "# BA4I Implement ConvolutionCyclopeptideSequencing\n",
    "See Last cell for BA4I"
   ]
  },
  {
   "cell_type": "markdown",
   "metadata": {},
   "source": [
    "# Generating Theoretical Spectrum Problem"
   ]
  },
  {
   "cell_type": "code",
   "execution_count": 1,
   "metadata": {},
   "outputs": [],
   "source": [
    "with open('integer_mass_table.txt', 'r') as f:\n",
    "    massTable = {}\n",
    "    for line in f:\n",
    "        k, v = line.rstrip().split()\n",
    "        v = int(v)\n",
    "        massTable[k] = v\n",
    "\n",
    "def CyclicSpectrum(peptide, massTable):\n",
    "    prefixMass = [0]\n",
    "    for i in range(1, len(peptide) + 1):\n",
    "        prefixMass.append(prefixMass[i-1] + massTable[peptide[i-1]])\n",
    "    totalMass = prefixMass[-1]\n",
    "    spectrum = [0]\n",
    "    for i in range(len(peptide)):\n",
    "        for j in range(i+1, len(peptide) + 1):\n",
    "            spectrum.append(prefixMass[j] - prefixMass[i])\n",
    "            if i > 0 and j < len(peptide):\n",
    "                spectrum.append(totalMass - (prefixMass[j] - prefixMass[i]))\n",
    "    spectrum.sort()\n",
    "    return spectrum"
   ]
  },
  {
   "cell_type": "code",
   "execution_count": 2,
   "metadata": {},
   "outputs": [],
   "source": [
    "def CyclicSpectrumMass(mass):\n",
    "    prefixMass = [0]\n",
    "    for i in range(1, len(mass) + 1):\n",
    "        prefixMass.append(prefixMass[i-1] + mass[i-1])\n",
    "    totalMass = prefixMass[-1]\n",
    "    spectrum = [0]\n",
    "    for i in range(len(mass)):\n",
    "        for j in range(i+1, len(mass) + 1):\n",
    "            spectrum.append(prefixMass[j] - prefixMass[i])\n",
    "            if i > 0 and j < len(mass):\n",
    "                spectrum.append(totalMass - (prefixMass[j] - prefixMass[i]))\n",
    "    spectrum.sort()\n",
    "    return spectrum"
   ]
  },
  {
   "cell_type": "code",
   "execution_count": 3,
   "metadata": {},
   "outputs": [],
   "source": [
    "def LinearSpectrum(peptide, massTable):\n",
    "    prefixMass = [0]\n",
    "    for i in range(1, len(peptide) + 1):\n",
    "        prefixMass.append(prefixMass[i-1] + massTable[peptide[i-1]])\n",
    "    totalMass = prefixMass[-1]\n",
    "    spectrum = [0]\n",
    "    for i in range(len(peptide)):\n",
    "        for j in range(i+1, len(peptide) + 1):\n",
    "            spectrum.append(prefixMass[j] - prefixMass[i])\n",
    "    spectrum.sort()\n",
    "    return spectrum"
   ]
  },
  {
   "cell_type": "code",
   "execution_count": 4,
   "metadata": {},
   "outputs": [],
   "source": [
    "def LinearSpectrumMass(mass):\n",
    "    prefixMass = [0]\n",
    "    for i in range(1, len(mass) + 1):\n",
    "        prefixMass.append(prefixMass[i-1] + mass[i-1])\n",
    "    totalMass = prefixMass[-1]\n",
    "    spectrum = [0]\n",
    "    for i in range(len(mass)):\n",
    "        for j in range(i+1, len(mass) + 1):\n",
    "            spectrum.append(prefixMass[j] - prefixMass[i])\n",
    "    spectrum.sort()\n",
    "    return spectrum"
   ]
  },
  {
   "cell_type": "markdown",
   "metadata": {},
   "source": [
    "# Counting Peptides with Given Mass Problem"
   ]
  },
  {
   "cell_type": "code",
   "execution_count": 5,
   "metadata": {},
   "outputs": [],
   "source": [
    "def DPpeptide_with_mass(m, massTable):\n",
    "    count = [0 for i in range(m + 1)]\n",
    "    #Remove pep with duplicate mass\n",
    "    del massTable['I']\n",
    "    del massTable['K']\n",
    "    allaa = list(massTable.keys())\n",
    "    for i in massTable.values():\n",
    "        count[i] = 1\n",
    "    for i in range(m + 1):\n",
    "        for j in range(len(allaa)):\n",
    "            if i >  massTable[allaa[j]]:\n",
    "                count[i] += count[i - massTable[allaa[j]]]\n",
    "    return count[m]"
   ]
  },
  {
   "cell_type": "code",
   "execution_count": 6,
   "metadata": {},
   "outputs": [
    {
     "data": {
      "text/plain": [
       "6888812571632460"
      ]
     },
     "execution_count": 6,
     "metadata": {},
     "output_type": "execute_result"
    }
   ],
   "source": [
    "import copy\n",
    "massTablecopy = copy.copy(massTable)\n",
    "DPpeptide_with_mass(1499, massTablecopy)"
   ]
  },
  {
   "cell_type": "markdown",
   "metadata": {},
   "source": [
    "# CyclopeptideSequencing"
   ]
  },
  {
   "cell_type": "code",
   "execution_count": 6,
   "metadata": {},
   "outputs": [],
   "source": [
    "def consistSpec(candidate, spectrum):\n",
    "    res = True\n",
    "    for i in range(len(candidate)):\n",
    "        if candidate[i] not in spectrum:\n",
    "            return False\n",
    "    return res\n",
    "\n",
    "def cycloPeptideSequencing(spectrum, massTable):\n",
    "    allaa = massTable.keys()\n",
    "    candidatePep = set(allaa)\n",
    "    finalPep = set()\n",
    "    while len(candidatePep):\n",
    "        newCandidate = set()\n",
    "        for pep in candidatePep:\n",
    "            for nxt in allaa:\n",
    "                newCandidate.add(pep + nxt)\n",
    "        candidatePep = newCandidate\n",
    "        tempCandidate = list(candidatePep)\n",
    "        for pep in tempCandidate:\n",
    "            pepSpecLinear = LinearSpectrum(pep, massTable)\n",
    "            pepSpecCirc = CyclicSpectrum(pep, massTable)\n",
    "            pepMass = sum([massTable[k] for k in pep])\n",
    "            if pepMass == spectrum[-1]:\n",
    "                if pepSpecCirc == spectrum:\n",
    "                    finalPep.add(pep)\n",
    "                candidatePep.remove(pep)\n",
    "            elif not consistSpec(pepSpecLinear, spectrum):\n",
    "                candidatePep.remove(pep)\n",
    "    return finalPep"
   ]
  },
  {
   "cell_type": "code",
   "execution_count": 7,
   "metadata": {},
   "outputs": [],
   "source": [
    "def cycloPeptideSequencingMass(spectrum, mass):\n",
    "    allmass = set(mass)\n",
    "    candidatePep = [()]\n",
    "    finalPep = set()\n",
    "    while len(candidatePep) > 0:\n",
    "        newCandidate = set()\n",
    "        for pep in candidatePep:\n",
    "            for nxt in allmass:\n",
    "                newCandidate.add(pep + (nxt,))\n",
    "        candidatePep = newCandidate\n",
    "        tempCandidate = list(candidatePep)\n",
    "        for pep in tempCandidate:\n",
    "            pepSpecLinear = LinearSpectrumMass(pep)\n",
    "            pepSpecCirc = CyclicSpectrumMass(pep)\n",
    "            pepMass = sum(pep)\n",
    "            if pepMass == spectrum[-1]:\n",
    "                if pepSpecCirc == spectrum:\n",
    "                    finalPep.add(pep)\n",
    "                candidatePep.remove(pep)\n",
    "            elif not consistSpec(pepSpecLinear, spectrum):\n",
    "                candidatePep.remove(pep)\n",
    "    return finalPep"
   ]
  },
  {
   "cell_type": "code",
   "execution_count": 96,
   "metadata": {},
   "outputs": [
    {
     "name": "stdout",
     "output_type": "stream",
     "text": [
      "128-186-113 113-128-186 113-186-128 186-128-113 128-113-186 186-113-128\n"
     ]
    }
   ],
   "source": [
    "with open('cycloPeptideSequencingTest1.txt', 'r') as f:\n",
    "    spectrum = f.readline().rstrip().split()\n",
    "    spectrum = [int(k) for k in spectrum]\n",
    "    mass = [k for k in massTable.values()]\n",
    "    seq = list(cycloPeptideSequencingMass(spectrum, mass))\n",
    "    output = []\n",
    "    for i in range(len(seq)):\n",
    "        output.append('-'.join([str(k) for k in seq[i]]))\n",
    "    print(' '.join(output))"
   ]
  },
  {
   "cell_type": "code",
   "execution_count": 54,
   "metadata": {},
   "outputs": [
    {
     "name": "stdout",
     "output_type": "stream",
     "text": [
      "186-113-128 128-186-113 113-128-186 186-128-113 113-186-128 128-113-186\n"
     ]
    }
   ],
   "source": [
    "with open('cycloPeptideSequencingTest1.txt', 'r') as f:\n",
    "    spectrum = f.readline().rstrip().split()\n",
    "    spectrum = [int(k) for k in spectrum]\n",
    "    seq = list(cycloPeptideSequencing(spectrum, massTable))\n",
    "    output = set()\n",
    "    for i in range(len(seq)):\n",
    "        output.add('-'.join([str(massTable[k]) for k in seq[i]]))\n",
    "    print(' '.join(list(output)))"
   ]
  },
  {
   "cell_type": "markdown",
   "metadata": {},
   "source": [
    "# Cyclopeptide Scoring Problem"
   ]
  },
  {
   "cell_type": "code",
   "execution_count": 8,
   "metadata": {},
   "outputs": [],
   "source": [
    "import copy\n",
    "def pepScoreCirc(peptide, spectrum, massTable):\n",
    "    pepSpec = CyclicSpectrum(peptide, massTable)\n",
    "    score = 0\n",
    "    tempSpectrum = copy.copy(spectrum)\n",
    "    for mass in pepSpec:\n",
    "        if mass in tempSpectrum:\n",
    "            score += 1\n",
    "            tempSpectrum.remove(mass)\n",
    "    return score"
   ]
  },
  {
   "cell_type": "code",
   "execution_count": 9,
   "metadata": {},
   "outputs": [],
   "source": [
    "def pepScoreLinear(peptide, spectrum, massTable):\n",
    "    pepSpec = LinearSpectrum(peptide, massTable)\n",
    "    score = 0\n",
    "    tempSpectrum = copy.copy(spectrum)\n",
    "    for mass in pepSpec:\n",
    "        if mass in tempSpectrum:\n",
    "            score += 1\n",
    "            tempSpectrum.remove(mass)\n",
    "    return score"
   ]
  },
  {
   "cell_type": "code",
   "execution_count": 10,
   "metadata": {},
   "outputs": [],
   "source": [
    "def pepScoreLinearMass(peptide, spectrum):\n",
    "    pepSpec = LinearSpectrumMass(peptide)\n",
    "    score = 0\n",
    "    tempSpectrum = copy.copy(spectrum)\n",
    "    for mass in pepSpec:\n",
    "        if mass in tempSpectrum:\n",
    "            score += 1\n",
    "            tempSpectrum.remove(mass)\n",
    "    return score"
   ]
  },
  {
   "cell_type": "code",
   "execution_count": 38,
   "metadata": {},
   "outputs": [
    {
     "name": "stdout",
     "output_type": "stream",
     "text": [
      "11\n"
     ]
    }
   ],
   "source": [
    "with open('pepScoreProblemTest1.txt', 'r') as f:\n",
    "    peptide = f.readline().rstrip()\n",
    "    spectrum = f.readline().rstrip().split()\n",
    "    spectrum = [int(k) for k in spectrum]\n",
    "    print(pepScoreCirc(peptide, spectrum, massTable))"
   ]
  },
  {
   "cell_type": "code",
   "execution_count": 39,
   "metadata": {},
   "outputs": [
    {
     "name": "stdout",
     "output_type": "stream",
     "text": [
      "8\n"
     ]
    }
   ],
   "source": [
    "with open('pepScoreProblemTest1.txt', 'r') as f:\n",
    "    peptide = f.readline().rstrip()\n",
    "    spectrum = f.readline().rstrip().split()\n",
    "    spectrum = [int(k) for k in spectrum]\n",
    "    print(pepScoreLinear(peptide, spectrum, massTable))"
   ]
  },
  {
   "cell_type": "markdown",
   "metadata": {},
   "source": [
    "# Implement the Trim function in LeaderboardCyclopeptideSequencing"
   ]
  },
  {
   "cell_type": "code",
   "execution_count": 11,
   "metadata": {},
   "outputs": [],
   "source": [
    "def trim(peptides, spectrum, N, massTable):\n",
    "    leaderboard = {}\n",
    "    for peptide in peptides:\n",
    "        scoreLinear = pepScoreLinear(peptide, spectrum, massTable)\n",
    "        leaderboard[peptide] = scoreLinear\n",
    "    if len(leaderboard.keys()) <= N:\n",
    "        return peptides\n",
    "    threshold = sorted(list(leaderboard.values()), reverse=True)[N - 1]\n",
    "    output = [k for k in leaderboard.keys() if leaderboard[k] >= threshold]\n",
    "    return output"
   ]
  },
  {
   "cell_type": "code",
   "execution_count": 12,
   "metadata": {},
   "outputs": [],
   "source": [
    "def trimMass(peptides, spectrum, N):\n",
    "    leaderboard = {}\n",
    "    for peptide in peptides:\n",
    "        scoreLinear = pepScoreLinearMass(peptide, spectrum)\n",
    "        leaderboard[peptide] = scoreLinear\n",
    "    if len(leaderboard.keys()) <= N:\n",
    "        return peptides\n",
    "    threshold = sorted(list(leaderboard.values()), reverse=True)[N - 1]\n",
    "    output = [k for k in leaderboard.keys() if leaderboard[k] >= threshold]\n",
    "    return output"
   ]
  },
  {
   "cell_type": "code",
   "execution_count": 146,
   "metadata": {},
   "outputs": [
    {
     "name": "stdout",
     "output_type": "stream",
     "text": [
      "['LAST', 'ALST']\n"
     ]
    }
   ],
   "source": [
    "with open('trimTest1.txt', 'r') as f:\n",
    "    peptides = f.readline().rstrip().split()\n",
    "    spectrum = f.readline().rstrip().split()\n",
    "    spectrum = [int(k) for k in spectrum]\n",
    "    N = int(f.readline().rstrip())\n",
    "    print(trim(peptides, spectrum, N, massTable))"
   ]
  },
  {
   "cell_type": "markdown",
   "metadata": {},
   "source": [
    "# LeaderboardCyclopeptideSequencing"
   ]
  },
  {
   "cell_type": "code",
   "execution_count": 39,
   "metadata": {},
   "outputs": [],
   "source": [
    "def LeaderboardCyclopeptideSequencing(spectrum, N, massTable):\n",
    "    allaa = massTable.keys()\n",
    "    candidatePep = set(allaa)\n",
    "    finalPep = ''\n",
    "    maxScore = 0\n",
    "    while len(candidatePep):\n",
    "        newCandidate = set()\n",
    "        for pep in candidatePep:\n",
    "            for nxt in allaa:\n",
    "                newCandidate.add(pep + nxt)\n",
    "        candidatePep = newCandidate\n",
    "        tempCandidate = list(candidatePep)\n",
    "        for pep in tempCandidate:\n",
    "            pepMass = sum([massTable[k] for k in pep])\n",
    "            if pepMass == spectrum[-1]:\n",
    "                scoreCirc = pepScoreCirc(pep, spectrum, massTable)\n",
    "                if scoreCirc > maxScore:\n",
    "                    finalPep = pep\n",
    "                    maxScore = scoreCirc\n",
    "            elif pepMass > spectrum[-1]:\n",
    "                candidatePep.remove(pep)\n",
    "        candidatePep = trim(candidatePep, spectrum, N, massTable)\n",
    "    return finalPep"
   ]
  },
  {
   "cell_type": "code",
   "execution_count": 41,
   "metadata": {},
   "outputs": [
    {
     "name": "stdout",
     "output_type": "stream",
     "text": [
      "147-71-129-113\n"
     ]
    }
   ],
   "source": [
    "with open('LeaderboardCyclopeptideSequencingTest1.txt', 'r') as f:\n",
    "    N = int(f.readline().rstrip())\n",
    "    spectrum = f.readline().rstrip().split()\n",
    "    spectrum = [int(k) for k in spectrum]\n",
    "    pep = LeaderboardCyclopeptideSequencing(spectrum, N, massTable)\n",
    "    print('-'.join([str(massTable[k]) for k in pep]))"
   ]
  },
  {
   "cell_type": "markdown",
   "metadata": {},
   "source": [
    "# Spectral Convolution Problem"
   ]
  },
  {
   "cell_type": "code",
   "execution_count": 42,
   "metadata": {},
   "outputs": [],
   "source": [
    "def spec_convolution(spectrum):\n",
    "    out = []\n",
    "    spectrum.sort()\n",
    "    pre = spectrum[:-1]\n",
    "    suf = spectrum[1:]\n",
    "    table = {}\n",
    "    for i in range(len(pre)):\n",
    "        for j in range(i, -1, -1):\n",
    "            if suf[i] > pre[j]:\n",
    "                mass = suf[i] - pre[j]\n",
    "                out.append(mass)\n",
    "                if mass not in table.keys():\n",
    "                    table[mass] = 0\n",
    "                table[mass] += 1\n",
    "    res = []\n",
    "    allkeys = sorted(table, key = table.get, reverse = True)\n",
    "    for k in allkeys:\n",
    "        res.extend([k] * table[k])\n",
    "    return table, res"
   ]
  },
  {
   "cell_type": "code",
   "execution_count": 43,
   "metadata": {},
   "outputs": [
    {
     "name": "stdout",
     "output_type": "stream",
     "text": [
      "137 137 186 186 49 323\n",
      "{137: 2, 49: 1, 186: 2, 323: 1}\n"
     ]
    }
   ],
   "source": [
    "with open('spectralConvolutionProblemTest1.txt', 'r') as f:\n",
    "    spectrum = f.readline().rstrip().split()\n",
    "    spectrum = [int(k) for k in spectrum]\n",
    "    table, out = spec_convolution(spectrum)\n",
    "    print(' '.join([str(i) for i in out]))\n",
    "    print(table)"
   ]
  },
  {
   "cell_type": "markdown",
   "metadata": {},
   "source": [
    "# ConvolutionCyclopeptideSequencing"
   ]
  },
  {
   "cell_type": "code",
   "execution_count": 44,
   "metadata": {},
   "outputs": [],
   "source": [
    "import copy\n",
    "\n",
    "\n",
    "def convolution_sequencing(spectrum, M, N, massTable):\n",
    "    table,res =spec_convolution(spectrum)\n",
    "    newtable = {}\n",
    "    for k in table.keys():\n",
    "        if k >= 57 and k <= 200:\n",
    "            newtable[k] = table[k]\n",
    "    allValues = sorted(newtable.values(), reverse = True)\n",
    "    print(allValues)\n",
    "    if M > len(allValues):\n",
    "        val_to_keep = allValues\n",
    "    else:\n",
    "        thres = allValues[M]\n",
    "        val_to_keep = [k for k in newtable.keys() if newtable[k] >= thres]\n",
    "    print(val_to_keep)\n",
    "    simple_table = copy.copy(massTable)\n",
    "    for k,v in massTable.items():\n",
    "        if v not in val_to_keep:\n",
    "            del simple_table[k]\n",
    "    placeholders = 'abcdefghijklmnopqrstuvwxyz'\n",
    "    start = 0\n",
    "    for v in val_to_keep:\n",
    "        if v not in simple_table.values():\n",
    "            simple_table[placeholders[start]] = v\n",
    "            start += 1\n",
    "    print(simple_table)\n",
    "    pep = LeaderboardCyclopeptideSequencing(spectrum, N, simple_table)\n",
    "    print(pep)\n",
    "    return(simple_table, ('-'.join([str(simple_table[k]) for k in pep])))"
   ]
  },
  {
   "cell_type": "code",
   "execution_count": 45,
   "metadata": {},
   "outputs": [
    {
     "name": "stdout",
     "output_type": "stream",
     "text": [
      "[57, 57, 71, 99, 129, 137, 170, 186, 194, 208, 228, 265, 285, 299, 307, 323, 356, 364, 394, 422, 493]\n",
      "[7, 7, 7, 7, 6, 5, 5, 5, 4, 4, 4, 4, 4, 4, 2, 2, 2, 2, 2, 2, 2, 2, 2, 2, 2, 2, 2, 2, 2, 2, 2, 2, 1, 1, 1, 1]\n",
      "[58, 72, 66, 80, 71, 99, 113, 57, 87, 115, 129, 65, 95, 123, 137, 79, 109, 151, 91, 157, 171, 128, 136, 166, 194, 148, 156, 186, 162, 170, 200, 178]\n",
      "{'G': 57, 'A': 71, 'S': 87, 'V': 99, 'I': 113, 'L': 113, 'D': 115, 'K': 128, 'Q': 128, 'E': 129, 'H': 137, 'R': 156, 'W': 186, 'a': 58, 'b': 72, 'c': 66, 'd': 80, 'e': 65, 'f': 95, 'g': 123, 'h': 79, 'i': 109, 'j': 151, 'k': 91, 'l': 157, 'm': 171, 'n': 136, 'o': 166, 'p': 194, 'q': 148, 'r': 162, 's': 170, 't': 200, 'u': 178}\n",
      "GEVAdG\n",
      "57-129-99-71-80-57\n"
     ]
    }
   ],
   "source": [
    "with open('ConvolutionCyclopeptideSequencingTest1.txt', 'r') as f:\n",
    "    M = int(f.readline().rstrip())\n",
    "    N = int(f.readline().rstrip())\n",
    "    spectrum = f.readline().rstrip().split()\n",
    "    spectrum = [int(k) for k in spectrum]\n",
    "    spectrum.sort()\n",
    "    print(spectrum)\n",
    "    simple_table, pep = convolution_sequencing(spectrum, M, N, massTable)\n",
    "    print(pep)"
   ]
  },
  {
   "cell_type": "code",
   "execution_count": 35,
   "metadata": {},
   "outputs": [
    {
     "data": {
      "text/plain": [
       "21"
      ]
     },
     "execution_count": 35,
     "metadata": {},
     "output_type": "execute_result"
    }
   ],
   "source": [
    "#simple_table = {'G': 57, 'A': 71, 'S': 87, 'V': 99, 'I': 113, 'L': 113, 'D': 115, 'K': 128, 'Q': 128, 'E': 129, 'H': 137, 'R': 156, 'W': 186, 'a': 58, 'b': 72, 'c': 66, 'd': 80, 'e': 65, 'f': 95, 'g': 123, 'h': 79, 'i': 109, 'j': 151, 'k': 91, 'l': 157, 'm': 171, 'n': 136, 'o': 166, 'p': 194, 'q': 148, 'r': 162, 's': 170, 't': 200, 'u': 178}\n",
    "pepScoreCirc('GEVAdG', spectrum, simple_table)"
   ]
  },
  {
   "cell_type": "code",
   "execution_count": 46,
   "metadata": {},
   "outputs": [
    {
     "name": "stdout",
     "output_type": "stream",
     "text": [
      "[0, 97, 97, 97, 101, 113, 113, 128, 128, 129, 156, 163, 186, 198, 225, 225, 226, 226, 229, 253, 257, 269, 276, 283, 326, 326, 349, 354, 354, 354, 366, 381, 382, 384, 389, 423, 446, 451, 455, 462, 479, 482, 494, 510, 512, 545, 547, 552, 559, 575, 579, 583, 607, 607, 609, 623, 642, 660, 672, 675, 680, 680, 720, 731, 735, 736, 738, 770, 772, 773, 777, 788, 828, 828, 833, 836, 848, 866, 885, 899, 901, 901, 925, 929, 933, 949, 956, 961, 963, 996, 998, 1014, 1026, 1029, 1046, 1053, 1057, 1062, 1085, 1119, 1124, 1126, 1127, 1142, 1154, 1154, 1154, 1159, 1182, 1182, 1225, 1232, 1239, 1251, 1255, 1279, 1282, 1282, 1283, 1283, 1310, 1322, 1345, 1352, 1379, 1380, 1380, 1395, 1395, 1407, 1411, 1411, 1411, 1508]\n",
      "[78, 72, 54, 52, 52, 50, 46, 40, 38, 32, 32, 28, 26, 24, 24, 24, 24, 22, 22, 22, 20, 20, 20, 18, 18, 18, 18, 18, 18, 18, 16, 16, 16, 16, 16, 16, 16, 16, 16, 15, 14, 14, 14, 14, 12, 12, 12, 12, 12, 12, 12, 12, 12, 12, 10, 10, 10, 10, 10, 10, 10, 10, 10, 10, 10, 9, 8, 8, 8, 8, 8, 8, 8, 8, 8, 8, 8, 8, 8, 8, 8, 8, 7, 6, 6, 6, 6, 6, 6, 6, 6, 6, 6, 4, 4, 4, 4, 4, 4, 4, 4, 4, 4, 4, 4, 4, 4, 4, 4, 4, 4, 4, 4, 3, 2, 2, 2, 2, 2, 2, 2, 2]\n",
      "[97, 101, 113, 128, 129, 156, 163, 57, 73, 85, 186, 198, 124, 125, 140, 71, 168, 170, 193, 191]\n",
      "{'G': 57, 'A': 71, 'P': 97, 'T': 101, 'I': 113, 'L': 113, 'K': 128, 'Q': 128, 'E': 129, 'R': 156, 'Y': 163, 'W': 186, 'a': 73, 'b': 85, 'c': 198, 'd': 124, 'e': 125, 'f': 140, 'g': 168, 'h': 170, 'i': 193, 'j': 191}\n",
      "EPKTPWYLLRPQ\n",
      "129-97-128-101-97-186-163-113-113-156-97-128\n"
     ]
    }
   ],
   "source": [
    "with open('rosalind_ba4i.txt', 'r') as f:\n",
    "    M = int(f.readline().rstrip())\n",
    "    N = int(f.readline().rstrip())\n",
    "    spectrum = f.readline().rstrip().split()\n",
    "    spectrum = [int(k) for k in spectrum]\n",
    "    spectrum.sort()\n",
    "    print(spectrum)\n",
    "    testtable, pep = convolution_sequencing(spectrum, M, N, massTable)\n",
    "    print(pep)"
   ]
  },
  {
   "cell_type": "code",
   "execution_count": 47,
   "metadata": {},
   "outputs": [
    {
     "data": {
      "text/plain": [
       "134"
      ]
     },
     "execution_count": 47,
     "metadata": {},
     "output_type": "execute_result"
    }
   ],
   "source": [
    "pepScoreCirc('EPKTPWYLLRPQ', spectrum, testtable)"
   ]
  }
 ],
 "metadata": {
  "kernelspec": {
   "display_name": "Python 3",
   "language": "python",
   "name": "python3"
  },
  "language_info": {
   "codemirror_mode": {
    "name": "ipython",
    "version": 3
   },
   "file_extension": ".py",
   "mimetype": "text/x-python",
   "name": "python",
   "nbconvert_exporter": "python",
   "pygments_lexer": "ipython3",
   "version": "3.7.0"
  }
 },
 "nbformat": 4,
 "nbformat_minor": 2
}
