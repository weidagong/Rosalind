{
 "cells": [
  {
   "cell_type": "markdown",
   "metadata": {},
   "source": [
    "# BA3H Reconstruct a String from its k-mer Composition"
   ]
  },
  {
   "cell_type": "code",
   "execution_count": 84,
   "metadata": {
    "collapsed": true
   },
   "outputs": [],
   "source": [
    "from collections import defaultdict\n",
    "import random\n",
    "import copy\n",
    "\n",
    "def explored(graphDict):\n",
    "    totalValues = sum([len(graphDict[k]) for k in graphDict])\n",
    "    if totalValues == 0:\n",
    "        return True\n",
    "    return False\n",
    "\n",
    "def deBrujin(patterns):\n",
    "    nodes = defaultdict(list)\n",
    "    for i in patterns:\n",
    "        nodes[i[:-1]].append(i[1:])\n",
    "    return(nodes)\n",
    "        \n",
    "def eulerCycle(graphDict):\n",
    "    startNode = random.choice(list(graphDict))\n",
    "    currNode = startNode\n",
    "    graphCopy = copy.deepcopy(graphDict)\n",
    "    visited = []\n",
    "    while len(graphCopy[currNode]) > 0:\n",
    "            visited.append(currNode)\n",
    "            nextNode = random.choice(graphCopy[currNode])\n",
    "            graphCopy[currNode].remove(nextNode)\n",
    "            currNode = nextNode\n",
    "            if nextNode == startNode:\n",
    "                break\n",
    "    while not explored(graphCopy):\n",
    "        #reorder visited\n",
    "        newStartNode = [k for k in visited if len(graphCopy[k]) > 0]\n",
    "        idx = visited.index(newStartNode[0])\n",
    "        visited = visited[idx:] + visited[:idx]\n",
    "        currNode = newStartNode[0]\n",
    "        while len(graphCopy[currNode]) > 0:\n",
    "            visited.append(currNode)\n",
    "            nextNode = random.choice(graphCopy[currNode])\n",
    "            graphCopy[currNode].remove(nextNode)\n",
    "            currNode = nextNode\n",
    "            if nextNode == startNode:\n",
    "                break\n",
    "    visited.append(currNode)\n",
    "    return(visited)\n",
    "\n",
    "def inDegree(k, graphDict):\n",
    "    out = 0\n",
    "    for i in graphDict.keys():\n",
    "        if i == k:\n",
    "            continue\n",
    "        else:\n",
    "            if k in graphDict[i] : out += 1\n",
    "    return(out)\n",
    "\n",
    "def addEdge(graphDict):\n",
    "    #add edge to convert a semi-balanced graph into a balaced graph\n",
    "    allKeys = graphDict.keys()\n",
    "    allValues = []\n",
    "    for v in graphDict.values():\n",
    "        allValues.extend(v)\n",
    "    outNode = [k for k in graphDict.keys() if len(graphDict[k]) < inDegree(k, graphDict)]\n",
    "    outNode.extend([k for k in allValues if k not in allKeys])\n",
    "    inNode = [k for k in graphDict.keys() if len(graphDict[k]) > inDegree(k, graphDict)]\n",
    "    return inNode,outNode\n",
    "    \n",
    "def eulerPath(graphDict):\n",
    "    # @param graphDict: A dict of lists, keys are source nodes and values are target nodes\n",
    "    # built upon eulerCycle\n",
    "    inNode, outNode = addEdge(graphDict)\n",
    "    graphDict[outNode[0]].extend(inNode)\n",
    "    cycle = eulerCycle(graphDict)\n",
    "    #remove the last node which was added to form a eulerCycle\n",
    "    #if the last node is the inNode, remove first node (in this case, first node would be inNode as well)\n",
    "    #so remove first node to avoid out of index error in idx\n",
    "    if cycle[0] == inNode[0]:\n",
    "        cycle = cycle[1:]\n",
    "    else:\n",
    "        cycle = cycle[:-1]\n",
    "    idx = [x for x in range(len(cycle) - 1) if cycle[x] == outNode[0] and cycle[x + 1] == inNode[0]]\n",
    "    cycle = cycle[idx[0] + 1:] + cycle[:idx[0] + 1]\n",
    "    genome = cycle[0] + ''.join([cycle[i][-1] for i in range(1, len(cycle), 1)])\n",
    "    return(genome)\n"
   ]
  },
  {
   "cell_type": "code",
   "execution_count": 93,
   "metadata": {
    "collapsed": true
   },
   "outputs": [],
   "source": [
    "def BA3H(filename):\n",
    "    with open(filename) as f:\n",
    "        k = int(f.readline().rstrip())\n",
    "        pattern = []\n",
    "        for line in f:\n",
    "            pattern.append(line.rstrip())\n",
    "        graphDict = deBrujin(pattern)\n",
    "        genome = eulerPath(graphDict)\n",
    "        return(genome)"
   ]
  },
  {
   "cell_type": "markdown",
   "metadata": {},
   "source": [
    "## Test"
   ]
  },
  {
   "cell_type": "code",
   "execution_count": 86,
   "metadata": {},
   "outputs": [
    {
     "data": {
      "text/plain": [
       "'GGCTTACCA'"
      ]
     },
     "execution_count": 86,
     "metadata": {},
     "output_type": "execute_result"
    }
   ],
   "source": [
    "test = ['CTTA', 'ACCA', 'TACC', 'GGCT', 'GCTT', 'TTAC']\n",
    "testGraph = deBrujin(test)\n",
    "eulerPath(testGraph)"
   ]
  },
  {
   "cell_type": "code",
   "execution_count": 94,
   "metadata": {},
   "outputs": [
    {
     "data": {
      "text/plain": [
       "'GGCTTACCA'"
      ]
     },
     "execution_count": 94,
     "metadata": {},
     "output_type": "execute_result"
    }
   ],
   "source": [
    "BA3H('BA3H-test.txt')"
   ]
  },
  {
   "cell_type": "code",
   "execution_count": 95,
   "metadata": {},
   "outputs": [
    {
     "data": {
      "text/plain": [
       "'TGCCCCTTTGATCGCGGTTCTCGAATCCATGTAAATACAAAGATCTTATGTCCGCCGCGTATAGCGGTCGTAAAAATCTACGAGTTTCGATAACTCCAGGATCAATGCGGAACTATGCCCTTATAATAAGGCCACAATTAGTGCGCGTATTAGTGCGATTCCCATTTGCTCCTTTTCTCAACGACCAACGTAGGCGGGGGATGAGTATGCACACGCCCACCCGCTACACTCGACCCTCTCGGCTCTTTTTGTACCGGGGGCCTATATCTCCTGCACCGCCACCATCGCGTTCTCTCTTATTTTGCTATTATTATTCTTTCCAGAACATATGACATATCAGTGCAAGCTGAATCGCGAAGCGGCACTTAATACGATTTCTTGCGATGTGTCTTCTCGCGGCAATTGCTAGTGCCTGGTAAGTCACCGTGATCGTGTCTATG'"
      ]
     },
     "execution_count": 95,
     "metadata": {},
     "output_type": "execute_result"
    }
   ],
   "source": [
    "BA3H('BA3H-test2.txt')"
   ]
  },
  {
   "cell_type": "markdown",
   "metadata": {},
   "source": [
    "## Quiz"
   ]
  },
  {
   "cell_type": "code",
   "execution_count": 96,
   "metadata": {},
   "outputs": [
    {
     "data": {
      "text/plain": [
       "'CCTAAGACTTCTAGCCATAGTGTCGGTATTGGGGTAGACTGATTTATTAGGCCCTTGGATAACGATTACCCGGGCGACAGATGTAGGATGAGGATATTGTGGTTGCGAGACGGAGGGTATGGGTCAACTTCCAAGCATTTGCTCCAAGCGCTGCTCGAGCCCTGATTGCACTAGCTATTGATACATATACCGGTGACATACAGCGGGTCGAGCTTTGTGACACACGTCTTTATACGCTCGGGTATCAATATTCCGGCATGGGAACCCTGACGGGTTTTGAAACCACGTTGTTGCCATTAATTGTGTATGTGTCGGACCTGTAAGTCCCTCAGTGCTTGCGTGCCATGGCAGTGCGCATCGTACGTATAAGCCGGCTTCCGATTCAGCGTCCTGCACAGTTCCAATGATTACGGGTCTATAGGACCTTCCATTTCGCGTGGTCGGAAGGGGGGACTAACTGTGTAGGTGGTGGGGGAAGTGGCACAACCAAATCTCACCAACTACCCGCTTCGAAAGCCGCTATTAAACGTGCGAACCTTCGTCACCTAACTATTCCTATTTAGTGCACATTCAGGCTTACTAAGAGAGGCAGCGAAACGTCTTCCATACTCCTACCAGGAGTCCTTATAAATTTCGCGGACTTGACACCTGTTCAATTGTCCGTCCCTCCCTCTGAATCTCCCCGGATGAGTAACTCGCACGGTGTTACCGCCCTTTACTTAGTTGCCCAATTGCACAGTGGGCGATAATTCGCGGGTTGTGATCTTTGGGCAAGTAGAATCGTCAGAGCCCGGGGAGTTCCGTACCTGTTTAAACCCTGGGTGGACCACATTCTCTCAAACCATGGCTAGATACCCCATTGGCACGCGGGTTATAACGGTCCTACTACCTCGTATTCCAGCAGACTGGTTTCCTCAATCACTTTTCGCCTATCTAGCGGTACTGCGCGGTAACGTTGAGGGCGTTTTAATTAATTCCCCGTACGGGTTGTTCCAATTATAAGCTGCGCTCAAGCCCAAGTCTCCGTTAGGCGAGGATCCCCTACGAAGGGCGCTGGGCAGCGTGTTATACGTGGCTTCTTACTCAAGCGAAGCGTTGTCATATGCTGGTAACAGATGGGTAGACGAACCCCGCCTGGACACTACGGCCCCGCTGCGGCAATGGGGGACTGTTTATAAGAGGGTAACTAACTTTTTTATCGGAGCGAGTGGTGCTAATGCGGAGCTCGTCATGTATAGATCGGCGGAGGCGTAGCACGGCAACATAACCCCGCACCTACACGCGCTTGCTCAACTCGAAATAGCCTGTATCACCTAACCCTCCAAACAGTAACCTTTAGTTTACATCCCCCGCACGGCATACGGTTAGCGGGCCGGCAACCGAACATTCTGCCTGGGCTTCGCTTGGCTTTCGGGACCTCGGGCACTTTACCTGCTTAGGACATCGTCGTCCGGCGTAGCCTCTGTCTGGGAGTCTGAGCAACAGGTTAGCCCGACCAAGCGTGGATTTGTTAGCGCTAAAGCTCGGAGGTGGGGGAAACATCAGCCCTCAGAAAGAGGGTAAATACAGTCTAGTAACCCGGATAAGATTGACGGAGTGATGACTACAAGGAGCTCCTTGCTGATCCGCCTCCGCCGTGCGACGCGAAAGAGCGAGCTTCATTTCTTTGGCATAATAAACGATATTAACACCCTGCTCATCTGGCGTTCTCATGAGGCCTTTGCCAAATTCAATTGGCCTGGCAGACTCGGGACCGAGTGCGCTTGGGGTTTGCAACACTCTCCATGAGGGAAGCGTCTTATAATAGCACGACGTCCAGATGGGTTCTCCGGCCCGAATCGAGTTTAAGTAGGGTAAGACTCTGCGGAACCAGGAACCTCTGCAGTCCCTTCATAGGTTACTGCGGACGGTAAGGTGGCCGAACAGCTTGACAGAGCCCGTACATAGACGCATCTGTGTCCGCGGTCGGAGCACGGGAGACCCCCTTTCTACTCATCGTGTGCGCGATCAGCACTAACGATGTTGGGCCCTTCCACCTTACCTGGATTTAGGACCCGATGTGCCATTGATGGAGCACTACAGGACAGTGGCCCGCGCAGGGCCACCGTTAAAGGCATGTTGGAACTCAGATCTCCGCGATTGTAATAATGCAATGGAATCGTGCATACGACGGAGCCGCGGGTGTATGGGAACGGCTAGGCACTTGCATGGGGTGACAGCCGTTAATCTTCTCAGGCATT'"
      ]
     },
     "execution_count": 96,
     "metadata": {},
     "output_type": "execute_result"
    }
   ],
   "source": [
    "BA3H('rosalind_ba3h.txt')"
   ]
  }
 ],
 "metadata": {
  "kernelspec": {
   "display_name": "Python 3",
   "language": "python",
   "name": "python3"
  },
  "language_info": {
   "codemirror_mode": {
    "name": "ipython",
    "version": 3
   },
   "file_extension": ".py",
   "mimetype": "text/x-python",
   "name": "python",
   "nbconvert_exporter": "python",
   "pygments_lexer": "ipython3",
   "version": "3.6.1"
  }
 },
 "nbformat": 4,
 "nbformat_minor": 2
}
