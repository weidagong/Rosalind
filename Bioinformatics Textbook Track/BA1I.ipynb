{
 "cells": [
  {
   "cell_type": "markdown",
   "metadata": {},
   "source": [
    "# BA1I Find the Most Frequent Words with Mismatches in a String"
   ]
  },
  {
   "cell_type": "code",
   "execution_count": 11,
   "metadata": {
    "collapsed": true
   },
   "outputs": [],
   "source": [
    "from itertools import product\n",
    "from collections import defaultdict\n",
    "\n",
    "def hammingDist(a, b):\n",
    "    return sum([x != y for x,y in zip(a,b)])\n",
    "\n",
    "def allKmers(k):\n",
    "    return [''.join(i) for i in product('ACGT', repeat = k)]  \n",
    "\n",
    "def BA1I(filename):\n",
    "    with open(filename) as f:\n",
    "        dna = f.readline().rstrip()\n",
    "        k, d = list(map(int, f.readline().rstrip().split()))\n",
    "    kmers = allKmers(k)\n",
    "    allKmersDict = defaultdict(int)\n",
    "    for kmer in kmers:\n",
    "        for i in range(len(dna) - k + 1):\n",
    "            if hammingDist(dna[i : i + k], kmer) <= d:\n",
    "                allKmersDict[kmer] += 1\n",
    "    maxCount = max(allKmersDict.values())\n",
    "    return ' '.join([k for k,v in allKmersDict.items() if v == maxCount])"
   ]
  },
  {
   "cell_type": "code",
   "execution_count": 14,
   "metadata": {
    "collapsed": true
   },
   "outputs": [],
   "source": [
    "def mismatchKmers(seq, k):\n",
    "    kmers = set()\n",
    "    bases = ['A', 'G', 'C', 'T']\n",
    "    for i in range(len(seq) - k + 1):\n",
    "        curKmer = seq[i : i + k]\n",
    "        kmers.add(curKmer)\n",
    "        for idx, v in enumerate(curKmer):\n",
    "            for b in bases:\n",
    "                kmers.add(curKmer[:idx] + b + curKmer[idx + 1:])\n",
    "    return(kmers)\n",
    "        \n",
    "        \n",
    "\n",
    "def fastBA1I(filename):\n",
    "    with open(filename) as f:\n",
    "        dna = f.readline().rstrip()\n",
    "        k, d = list(map(int, f.readline().rstrip().split()))\n",
    "    kmers = mismatchKmers(dna, k)\n",
    "    allKmersDict = defaultdict(int)\n",
    "    for kmer in kmers:\n",
    "        for i in range(len(dna) - k + 1):\n",
    "            if hammingDist(dna[i : i + k], kmer) <= d:\n",
    "                allKmersDict[kmer] += 1\n",
    "    maxCount = max(allKmersDict.values())\n",
    "    return ' '.join([k for k,v in allKmersDict.items() if v == maxCount])"
   ]
  },
  {
   "cell_type": "markdown",
   "metadata": {},
   "source": [
    "## Test"
   ]
  },
  {
   "cell_type": "code",
   "execution_count": 16,
   "metadata": {},
   "outputs": [
    {
     "data": {
      "text/plain": [
       "'ATGT GATG ATGC'"
      ]
     },
     "execution_count": 16,
     "metadata": {},
     "output_type": "execute_result"
    }
   ],
   "source": [
    "fastBA1I('BA1I-test.txt')"
   ]
  },
  {
   "cell_type": "code",
   "execution_count": 15,
   "metadata": {},
   "outputs": [
    {
     "data": {
      "text/plain": [
       "'GCACACAGAC GCGCACACAC'"
      ]
     },
     "execution_count": 15,
     "metadata": {},
     "output_type": "execute_result"
    }
   ],
   "source": [
    "fastBA1I('BA1I-test2.txt')"
   ]
  },
  {
   "cell_type": "markdown",
   "metadata": {},
   "source": [
    "## Quiz"
   ]
  },
  {
   "cell_type": "code",
   "execution_count": 17,
   "metadata": {},
   "outputs": [
    {
     "data": {
      "text/plain": [
       "'AAGAGA'"
      ]
     },
     "execution_count": 17,
     "metadata": {},
     "output_type": "execute_result"
    }
   ],
   "source": [
    "fastBA1I('rosalind_ba1i.txt')"
   ]
  }
 ],
 "metadata": {
  "kernelspec": {
   "display_name": "Python 3",
   "language": "python",
   "name": "python3"
  },
  "language_info": {
   "codemirror_mode": {
    "name": "ipython",
    "version": 3
   },
   "file_extension": ".py",
   "mimetype": "text/x-python",
   "name": "python",
   "nbconvert_exporter": "python",
   "pygments_lexer": "ipython3",
   "version": "3.6.1"
  }
 },
 "nbformat": 4,
 "nbformat_minor": 2
}
