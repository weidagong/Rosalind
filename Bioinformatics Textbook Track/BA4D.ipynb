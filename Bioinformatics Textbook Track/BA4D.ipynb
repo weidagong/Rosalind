{
 "cells": [
  {
   "cell_type": "markdown",
   "metadata": {},
   "source": [
    "# BA4D\n",
    "Compute the Number of Peptides of Given Total Mass"
   ]
  },
  {
   "cell_type": "code",
   "execution_count": 1,
   "metadata": {},
   "outputs": [],
   "source": [
    "def DPpeptide_with_mass(m, massTable):\n",
    "    count = [0 for i in range(m + 1)]\n",
    "    #Remove pep with duplicate mass\n",
    "    del massTable['I']\n",
    "    del massTable['K']\n",
    "    allaa = list(massTable.keys())\n",
    "    for i in massTable.values():\n",
    "        count[i] = 1\n",
    "    for i in range(m + 1):\n",
    "        for j in range(len(allaa)):\n",
    "            if i >  massTable[allaa[j]]:\n",
    "                count[i] += count[i - massTable[allaa[j]]]\n",
    "    return count[m]\n",
    "\n",
    "with open('integer_mass_table.txt', 'r') as f:\n",
    "    massTable = {}\n",
    "    for line in f:\n",
    "        k, v = line.rstrip().split()\n",
    "        v = int(v)\n",
    "        massTable[k] = v"
   ]
  },
  {
   "cell_type": "code",
   "execution_count": 2,
   "metadata": {},
   "outputs": [
    {
     "data": {
      "text/plain": [
       "3582530678412"
      ]
     },
     "execution_count": 2,
     "metadata": {},
     "output_type": "execute_result"
    }
   ],
   "source": [
    "import copy\n",
    "massTablecopy = copy.copy(massTable)\n",
    "DPpeptide_with_mass(1224, massTablecopy)"
   ]
  },
  {
   "cell_type": "code",
   "execution_count": null,
   "metadata": {},
   "outputs": [],
   "source": []
  }
 ],
 "metadata": {
  "kernelspec": {
   "display_name": "Python 3",
   "language": "python",
   "name": "python3"
  },
  "language_info": {
   "codemirror_mode": {
    "name": "ipython",
    "version": 3
   },
   "file_extension": ".py",
   "mimetype": "text/x-python",
   "name": "python",
   "nbconvert_exporter": "python",
   "pygments_lexer": "ipython3",
   "version": "3.7.0"
  }
 },
 "nbformat": 4,
 "nbformat_minor": 2
}
