{
 "cells": [
  {
   "cell_type": "markdown",
   "metadata": {},
   "source": [
    "# BA5I Find a Highest-Scoring Overlap Alignment of Two Strings"
   ]
  },
  {
   "cell_type": "code",
   "execution_count": 1,
   "metadata": {
    "collapsed": true
   },
   "outputs": [],
   "source": [
    "import numpy as np\n",
    "\n",
    "def OverlapAlignment(v, w):\n",
    "    score = np.zeros([len(v) + 1, len(w) + 1])\n",
    "    backtrack = [[] for _ in range(len(v) + 1)]\n",
    "    backtrack[0].append('-')\n",
    "    for i in range(1, len(v) + 1):\n",
    "        score[i, 0] = 0\n",
    "        backtrack[i].append('-')\n",
    "    for j in range(1, len(w) + 1):\n",
    "        score[0, j] = score[0, j - 1] - 2\n",
    "        backtrack[0].append('→')\n",
    "    for i in range(1, len(v) + 1):\n",
    "        for j in range(1, len(w) + 1):\n",
    "            if v[i - 1] == w[j-1]:\n",
    "                diag = score[i-1, j-1] + 1\n",
    "            else:\n",
    "                diag = score[i-1, j-1] - 2\n",
    "            horizontal = score[i, j - 1] - 2\n",
    "            vertical = score[i - 1, j] - 2\n",
    "            score[i, j] = max(diag, horizontal, vertical)\n",
    "            if score[i, j] == diag:\n",
    "                backtrack[i].append(\"↘\")\n",
    "            elif score[i, j] == score[i - 1,j] - 2:\n",
    "                backtrack[i].append(\"↓\")\n",
    "            elif score[i, j] == score[i, j - 1] - 2:\n",
    "                backtrack[i].append(\"→\")\n",
    "    maxScore = np.amax(score[len(v), :])\n",
    "    coordinates = np.where(score[len(v), :] == maxScore)\n",
    "    x = len(v)\n",
    "    y = coordinates[0][0]\n",
    "    return maxScore, score, backtrack, x, y"
   ]
  },
  {
   "cell_type": "code",
   "execution_count": 2,
   "metadata": {
    "collapsed": true
   },
   "outputs": [],
   "source": [
    "def IterOutputOverlap(backtrack, v, w, i, j):\n",
    "    first = ''\n",
    "    second = ''\n",
    "    while j > 0:\n",
    "        if backtrack[i][j] == \"↓\":\n",
    "            first += v[i -1]\n",
    "            second += '-'\n",
    "            i = i - 1\n",
    "        elif backtrack[i][j] == \"→\":\n",
    "            first += '-'\n",
    "            second += w[j - 1]\n",
    "            j = j - 1\n",
    "        elif backtrack[i][j] == \"↘\":\n",
    "            first += v[i - 1]\n",
    "            second += w[j - 1]\n",
    "            i = i - 1\n",
    "            j = j - 1\n",
    "        \n",
    "    first = first[::-1]\n",
    "    second = second[::-1]\n",
    "    return first, second"
   ]
  },
  {
   "cell_type": "code",
   "execution_count": 3,
   "metadata": {},
   "outputs": [
    {
     "name": "stdout",
     "output_type": "stream",
     "text": [
      "30.0\n",
      "GTAGCCTTGGTAGCCGATT---TAGTGC-GGACGTGTAAGT-TC-TCACC-GCTATC-ATTCC-GT-CTGCGCCGGCGTC-GTTAGAGAAGTCTCGCATCCAAGTTGAGTGCACCAG-GCGAACG-CAAATACACTAATCGAGCCCTGC-ATTGGGAAGGGAAAGCTATTAGCATCTACCG-TCCACGGTAT-TTATG-CGAGGTTT-AGCTA-ATGGCTGCAACGGTTCTCTAGTCACTAATGTTA-C-GGCAATGA\n",
      "GTAGCCTTAGTAGCC--TTCACTACTGCGGGACGTACAGGTGGCTTTACCGGCCATCGGGTCCACTAC-GAGCCGGCGTCGGTTAGA-AAATCTCGTATCCGAGTTCA--CCACCAGTGCGTGTGACGAAT-CAC-AA-CG-G-GCT-CAAAT-GGTAGGAAAAGCTATTAACA-CCAACGTTCCA-GGTATCATATGTCGA-GTTTCAGC-AGAT-ACTTCAACGGTTAT-TGGTCATTAATCTTACCGGGC-ATGA\n"
     ]
    }
   ],
   "source": [
    "with open('rosalind_ba5i.txt', 'r') as f:\n",
    "    v = f.readline().rstrip()\n",
    "    w = f.readline().rstrip()\n",
    "    maxScore, score, backtrack,x,y = OverlapAlignment(v, w)\n",
    "    print(maxScore)\n",
    "    first, second = IterOutputOverlap(backtrack, v, w, x, y)\n",
    "    print(first)\n",
    "    print(second)"
   ]
  }
 ],
 "metadata": {
  "kernelspec": {
   "display_name": "Python 3",
   "language": "python",
   "name": "python3"
  },
  "language_info": {
   "codemirror_mode": {
    "name": "ipython",
    "version": 3
   },
   "file_extension": ".py",
   "mimetype": "text/x-python",
   "name": "python",
   "nbconvert_exporter": "python",
   "pygments_lexer": "ipython3",
   "version": "3.6.1"
  }
 },
 "nbformat": 4,
 "nbformat_minor": 2
}
