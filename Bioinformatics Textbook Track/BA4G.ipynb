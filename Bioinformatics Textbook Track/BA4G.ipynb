{
 "cells": [
  {
   "cell_type": "markdown",
   "metadata": {},
   "source": [
    "# BA4G\n",
    "Implement LeaderboardCyclopeptideSequencing"
   ]
  },
  {
   "cell_type": "code",
   "execution_count": 1,
   "metadata": {},
   "outputs": [],
   "source": [
    "with open('integer_mass_table.txt', 'r') as f:\n",
    "    massTable = {}\n",
    "    for line in f:\n",
    "        k, v = line.rstrip().split()\n",
    "        v = int(v)\n",
    "        massTable[k] = v\n",
    "\n",
    "        \n",
    "def CyclicSpectrum(peptide, massTable):\n",
    "    prefixMass = [0]\n",
    "    for i in range(1, len(peptide) + 1):\n",
    "        prefixMass.append(prefixMass[i-1] + massTable[peptide[i-1]])\n",
    "    totalMass = prefixMass[-1]\n",
    "    spectrum = [0]\n",
    "    for i in range(len(peptide)):\n",
    "        for j in range(i+1, len(peptide) + 1):\n",
    "            spectrum.append(prefixMass[j] - prefixMass[i])\n",
    "            if i > 0 and j < len(peptide):\n",
    "                spectrum.append(totalMass - (prefixMass[j] - prefixMass[i]))\n",
    "    spectrum.sort()\n",
    "    return spectrum\n",
    "\n",
    "\n",
    "def LinearSpectrum(peptide, massTable):\n",
    "    prefixMass = [0]\n",
    "    for i in range(1, len(peptide) + 1):\n",
    "        prefixMass.append(prefixMass[i-1] + massTable[peptide[i-1]])\n",
    "    totalMass = prefixMass[-1]\n",
    "    spectrum = [0]\n",
    "    for i in range(len(peptide)):\n",
    "        for j in range(i+1, len(peptide) + 1):\n",
    "            spectrum.append(prefixMass[j] - prefixMass[i])\n",
    "    spectrum.sort()\n",
    "    return spectrum"
   ]
  },
  {
   "cell_type": "code",
   "execution_count": 2,
   "metadata": {},
   "outputs": [],
   "source": [
    "import copy\n",
    "\n",
    "\n",
    "def pepScoreCirc(peptide, spectrum, massTable):\n",
    "    pepSpec = CyclicSpectrum(peptide, massTable)\n",
    "    score = 0\n",
    "    tempSpectrum = copy.copy(spectrum)\n",
    "    for mass in pepSpec:\n",
    "        if mass in tempSpectrum:\n",
    "            score += 1\n",
    "            tempSpectrum.remove(mass)\n",
    "    return score\n",
    "\n",
    "\n",
    "def pepScoreLinear(peptide, spectrum, massTable):\n",
    "    pepSpec = LinearSpectrum(peptide, massTable)\n",
    "    score = 0\n",
    "    tempSpectrum = copy.copy(spectrum)\n",
    "    for mass in pepSpec:\n",
    "        if mass in tempSpectrum:\n",
    "            score += 1\n",
    "            tempSpectrum.remove(mass)\n",
    "    return score"
   ]
  },
  {
   "cell_type": "code",
   "execution_count": 3,
   "metadata": {},
   "outputs": [],
   "source": [
    "def trim(peptides, spectrum, N, massTable):\n",
    "    leaderboard = {}\n",
    "    for peptide in peptides:\n",
    "        scoreLinear = pepScoreLinear(peptide, spectrum, massTable)\n",
    "        leaderboard[peptide] = scoreLinear\n",
    "    if len(leaderboard.keys()) <= N:\n",
    "        return peptides\n",
    "    threshold = sorted(list(leaderboard.values()), reverse=True)[N - 1]\n",
    "    output = [k for k in leaderboard.keys() if leaderboard[k] >= threshold]\n",
    "    return output\n",
    "\n",
    "\n",
    "def LeaderboardCyclopeptideSequencing(spectrum, N, massTable):\n",
    "    allaa = massTable.keys()\n",
    "    candidatePep = set(allaa)\n",
    "    finalPep = ''\n",
    "    maxScore = 0\n",
    "    while len(candidatePep):\n",
    "        newCandidate = set()\n",
    "        for pep in candidatePep:\n",
    "            for nxt in allaa:\n",
    "                newCandidate.add(pep + nxt)\n",
    "        candidatePep = newCandidate\n",
    "        tempCandidate = list(candidatePep)\n",
    "        for pep in tempCandidate:\n",
    "            pepMass = sum([massTable[k] for k in pep])\n",
    "            if pepMass == spectrum[-1]:\n",
    "                scoreCirc = pepScoreCirc(pep, spectrum, massTable)\n",
    "                if scoreCirc > maxScore:\n",
    "                    finalPep = pep\n",
    "                    maxScore = scoreCirc\n",
    "            elif pepMass > spectrum[-1]:\n",
    "                candidatePep.remove(pep)\n",
    "        candidatePep = trim(candidatePep, spectrum, N, massTable)\n",
    "    return finalPep"
   ]
  },
  {
   "cell_type": "code",
   "execution_count": 5,
   "metadata": {},
   "outputs": [
    {
     "name": "stdout",
     "output_type": "stream",
     "text": [
      "113-115-128-113-131-99-186-156-156-147-186-129-128\n"
     ]
    }
   ],
   "source": [
    "with open('rosalind_ba4g.txt', 'r') as f:\n",
    "    N = int(f.readline().rstrip())\n",
    "    spectrum = f.readline().rstrip().split()\n",
    "    spectrum = [int(k) for k in spectrum]\n",
    "    pep = LeaderboardCyclopeptideSequencing(spectrum, N, massTable)\n",
    "    print('-'.join([str(massTable[k]) for k in pep]))"
   ]
  },
  {
   "cell_type": "code",
   "execution_count": null,
   "metadata": {},
   "outputs": [],
   "source": []
  },
  {
   "cell_type": "code",
   "execution_count": null,
   "metadata": {},
   "outputs": [],
   "source": []
  }
 ],
 "metadata": {
  "kernelspec": {
   "display_name": "Python 3",
   "language": "python",
   "name": "python3"
  },
  "language_info": {
   "codemirror_mode": {
    "name": "ipython",
    "version": 3
   },
   "file_extension": ".py",
   "mimetype": "text/x-python",
   "name": "python",
   "nbconvert_exporter": "python",
   "pygments_lexer": "ipython3",
   "version": "3.7.0"
  }
 },
 "nbformat": 4,
 "nbformat_minor": 2
}
