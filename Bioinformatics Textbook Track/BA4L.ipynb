{
 "cells": [
  {
   "cell_type": "markdown",
   "metadata": {},
   "source": [
    "# BA4L\n",
    "Trim a Peptide Leaderboard"
   ]
  },
  {
   "cell_type": "code",
   "execution_count": 8,
   "metadata": {},
   "outputs": [],
   "source": [
    "import copy \n",
    "\n",
    "with open('integer_mass_table.txt', 'r') as f:\n",
    "    massTable = {}\n",
    "    for line in f:\n",
    "        k, v = line.rstrip().split()\n",
    "        v = int(v)\n",
    "        massTable[k] = v\n",
    "        \n",
    "\n",
    "def LinearSpectrum(peptide, massTable):\n",
    "    prefixMass = [0]\n",
    "    for i in range(1, len(peptide) + 1):\n",
    "        prefixMass.append(prefixMass[i-1] + massTable[peptide[i-1]])\n",
    "    totalMass = prefixMass[-1]\n",
    "    spectrum = [0]\n",
    "    for i in range(len(peptide)):\n",
    "        for j in range(i+1, len(peptide) + 1):\n",
    "            spectrum.append(prefixMass[j] - prefixMass[i])\n",
    "    spectrum.sort()\n",
    "    return spectrum\n",
    "\n",
    "\n",
    "def pepScoreLinear(peptide, spectrum, massTable):\n",
    "    pepSpec = LinearSpectrum(peptide, massTable)\n",
    "    score = 0\n",
    "    tempSpectrum = copy.copy(spectrum)\n",
    "    for mass in pepSpec:\n",
    "        if mass in tempSpectrum:\n",
    "            score += 1\n",
    "            tempSpectrum.remove(mass)\n",
    "    return score"
   ]
  },
  {
   "cell_type": "code",
   "execution_count": 9,
   "metadata": {},
   "outputs": [],
   "source": [
    "def trim(peptides, spectrum, N, massTable):\n",
    "    leaderboard = {}\n",
    "    for peptide in peptides:\n",
    "        scoreLinear = pepScoreLinear(peptide, spectrum, massTable)\n",
    "        leaderboard[peptide] = scoreLinear\n",
    "    threshold = sorted(list(leaderboard.values()), reverse=True)[N - 1]\n",
    "    output = [k for k in leaderboard.keys() if leaderboard[k] >= threshold]\n",
    "    return output"
   ]
  },
  {
   "cell_type": "code",
   "execution_count": 11,
   "metadata": {},
   "outputs": [
    {
     "name": "stdout",
     "output_type": "stream",
     "text": [
      "VKEQQKLYISVINHNMYVCNRGIRNNDTIALRHMCAMRKWKVAEC RDINSGNWLLSQVECDQCFTFTVMANLMMYDPTRYHMRWRHSVDI RDRFWWYDYVTSLWHFYLMGCHFTHKPGIHKFKRCCRELPCDCGH IECDGEASTENPCQAMEEFPTKHVREAHPCEIGQRKYEAHLGKIA FVDRHDYCITNTHHYAMQSNPKPFQLGKRITDNCHHNNAYQPEMG CDVSPNIAHLPYGKWGKWSVFTMDNMEKTGYMYWCEWPHVTPWPR\n"
     ]
    }
   ],
   "source": [
    "with open('rosalind_ba4l.txt', 'r') as f:\n",
    "    peptides = f.readline().rstrip().split()\n",
    "    spectrum = f.readline().rstrip().split()\n",
    "    spectrum = [int(k) for k in spectrum]\n",
    "    N = int(f.readline().rstrip())\n",
    "    out = trim(peptides, spectrum, N, massTable)\n",
    "    print(' '.join(out))"
   ]
  },
  {
   "cell_type": "code",
   "execution_count": null,
   "metadata": {},
   "outputs": [],
   "source": []
  },
  {
   "cell_type": "code",
   "execution_count": null,
   "metadata": {},
   "outputs": [],
   "source": []
  }
 ],
 "metadata": {
  "kernelspec": {
   "display_name": "Python 3",
   "language": "python",
   "name": "python3"
  },
  "language_info": {
   "codemirror_mode": {
    "name": "ipython",
    "version": 3
   },
   "file_extension": ".py",
   "mimetype": "text/x-python",
   "name": "python",
   "nbconvert_exporter": "python",
   "pygments_lexer": "ipython3",
   "version": "3.7.0"
  }
 },
 "nbformat": 4,
 "nbformat_minor": 2
}
