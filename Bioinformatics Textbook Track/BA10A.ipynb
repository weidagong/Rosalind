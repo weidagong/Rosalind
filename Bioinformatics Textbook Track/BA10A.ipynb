{
 "cells": [
  {
   "cell_type": "markdown",
   "metadata": {},
   "source": [
    "# BA10A --- Compute the probability of a hidden path"
   ]
  },
  {
   "cell_type": "code",
   "execution_count": 7,
   "metadata": {},
   "outputs": [],
   "source": [
    "def BA10A(filename):\n",
    "    i = 1\n",
    "    transition = {}\n",
    "    with open(filename, 'r') as f:\n",
    "        for line in f:\n",
    "            if i == 1:\n",
    "                string = line.rstrip()\n",
    "            if i == 6:\n",
    "                transition['AA'] = float(line.rstrip().split()[1])\n",
    "                transition['AB'] = float(line.rstrip().split()[2])\n",
    "            if i == 7:\n",
    "                transition['BA'] = float(line.rstrip().split()[1])\n",
    "                transition['BB'] = float(line.rstrip().split()[2])\n",
    "            i += 1\n",
    "    prob = 0.5\n",
    "    for i in range(len(string) - 1):\n",
    "        prob = prob * transition[string[i] + string[i+1]]\n",
    "    return prob"
   ]
  },
  {
   "cell_type": "markdown",
   "metadata": {},
   "source": [
    "## Test"
   ]
  },
  {
   "cell_type": "code",
   "execution_count": 8,
   "metadata": {},
   "outputs": [
    {
     "name": "stdout",
     "output_type": "stream",
     "text": [
      "3.2623333190410896e-21\n"
     ]
    }
   ],
   "source": [
    "print(BA10A('BA10A-test.txt'))"
   ]
  },
  {
   "cell_type": "markdown",
   "metadata": {},
   "source": [
    "## Question"
   ]
  },
  {
   "cell_type": "code",
   "execution_count": 9,
   "metadata": {},
   "outputs": [
    {
     "name": "stdout",
     "output_type": "stream",
     "text": [
      "3.8018167568141227e-16\n"
     ]
    }
   ],
   "source": [
    "print(BA10A('rosalind_ba10a.txt'))"
   ]
  }
 ],
 "metadata": {
  "kernelspec": {
   "display_name": "Python 3",
   "language": "python",
   "name": "python3"
  },
  "language_info": {
   "codemirror_mode": {
    "name": "ipython",
    "version": 3
   },
   "file_extension": ".py",
   "mimetype": "text/x-python",
   "name": "python",
   "nbconvert_exporter": "python",
   "pygments_lexer": "ipython3",
   "version": "3.7.0"
  }
 },
 "nbformat": 4,
 "nbformat_minor": 2
}
