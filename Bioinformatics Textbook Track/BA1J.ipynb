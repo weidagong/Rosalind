{
 "cells": [
  {
   "cell_type": "markdown",
   "metadata": {},
   "source": [
    "# BA1J Find Frequent Words with Mismatches and Reverse Complements"
   ]
  },
  {
   "cell_type": "code",
   "execution_count": 17,
   "metadata": {
    "collapsed": true
   },
   "outputs": [],
   "source": [
    "from itertools import product\n",
    "from collections import defaultdict\n",
    "\n",
    "def hammingDist(a, b):\n",
    "    return sum([x != y for x,y in zip(a,b)])\n",
    "\n",
    "\n",
    "def allKmers(k):\n",
    "    return [''.join(i) for i in product('ACGT', repeat = k)]  \n",
    "        \n",
    "\n",
    "def rc(dna):\n",
    "    table = dna.maketrans('ACGT', 'TGCA')\n",
    "    return dna[::-1].translate(table)\n",
    "\n",
    "def BA1J(filename):\n",
    "    with open(filename) as f:\n",
    "        dna = f.readline().rstrip()\n",
    "        k, d = list(map(int, f.readline().rstrip().split()))\n",
    "    kmers = allKmers(k)\n",
    "    allKmersDict = defaultdict(int)\n",
    "    for kmer in kmers:\n",
    "        for i in range(len(dna) - k + 1):\n",
    "            if hammingDist(dna[i : i + k], kmer) <= d:\n",
    "                allKmersDict[kmer] += 1\n",
    "            if hammingDist(dna[i : i + k], rc(kmer)) <= d:\n",
    "                allKmersDict[kmer] += 1\n",
    "    maxCount = max(allKmersDict.values())\n",
    "    maxKmers = [k for k,v in allKmersDict.items() if v == maxCount]\n",
    "    maxKmers.extend([rc(x) for x in maxKmers])\n",
    "    return ' '.join(set(maxKmers))"
   ]
  },
  {
   "cell_type": "markdown",
   "metadata": {},
   "source": [
    "## Test"
   ]
  },
  {
   "cell_type": "code",
   "execution_count": 18,
   "metadata": {},
   "outputs": [
    {
     "data": {
      "text/plain": [
       "'ATGT ACAT'"
      ]
     },
     "execution_count": 18,
     "metadata": {},
     "output_type": "execute_result"
    }
   ],
   "source": [
    "BA1J('BA1J-test.txt')"
   ]
  },
  {
   "cell_type": "code",
   "execution_count": 19,
   "metadata": {},
   "outputs": [
    {
     "data": {
      "text/plain": [
       "'AGCGCCGCT AGCGGCGCT'"
      ]
     },
     "execution_count": 19,
     "metadata": {},
     "output_type": "execute_result"
    }
   ],
   "source": [
    "BA1J('BA1J-test2.txt')"
   ]
  },
  {
   "cell_type": "markdown",
   "metadata": {},
   "source": [
    "## Quiz"
   ]
  },
  {
   "cell_type": "code",
   "execution_count": 20,
   "metadata": {},
   "outputs": [
    {
     "data": {
      "text/plain": [
       "'AAATAC GTATTT'"
      ]
     },
     "execution_count": 20,
     "metadata": {},
     "output_type": "execute_result"
    }
   ],
   "source": [
    "BA1J('rosalind_ba1j.txt')"
   ]
  }
 ],
 "metadata": {
  "kernelspec": {
   "display_name": "Python 3",
   "language": "python",
   "name": "python3"
  },
  "language_info": {
   "codemirror_mode": {
    "name": "ipython",
    "version": 3
   },
   "file_extension": ".py",
   "mimetype": "text/x-python",
   "name": "python",
   "nbconvert_exporter": "python",
   "pygments_lexer": "ipython3",
   "version": "3.6.1"
  }
 },
 "nbformat": 4,
 "nbformat_minor": 2
}
