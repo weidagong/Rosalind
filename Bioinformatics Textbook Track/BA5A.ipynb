{
 "cells": [
  {
   "cell_type": "markdown",
   "metadata": {},
   "source": [
    "# BA5A Change Problem"
   ]
  },
  {
   "cell_type": "code",
   "execution_count": 2,
   "metadata": {},
   "outputs": [],
   "source": [
    "def DPChange(money, Coins):\n",
    "    minChange = [0] * (money + 1)\n",
    "    for i in range(1, money + 1):\n",
    "        minChange[i] = float(\"inf\")\n",
    "        for j in range(len(Coins)):\n",
    "            if  i >= Coins[j]:\n",
    "                thisChange = minChange[i - Coins[j]] + 1\n",
    "                if thisChange < minChange[i]:\n",
    "                    minChange[i] = thisChange\n",
    "    return minChange[money]"
   ]
  },
  {
   "cell_type": "code",
   "execution_count": 3,
   "metadata": {},
   "outputs": [
    {
     "data": {
      "text/plain": [
       "2"
      ]
     },
     "execution_count": 3,
     "metadata": {},
     "output_type": "execute_result"
    }
   ],
   "source": [
    "DPChange(40, [50,25,20,10,5,1])"
   ]
  },
  {
   "cell_type": "code",
   "execution_count": 4,
   "metadata": {},
   "outputs": [
    {
     "name": "stdout",
     "output_type": "stream",
     "text": [
      "761\n"
     ]
    }
   ],
   "source": [
    "with open('rosalind_ba5a.txt', 'r') as f:\n",
    "    money = int(f.readline().rstrip())\n",
    "    Coins = [int(x) for x in f.readline().rstrip().split(',')]\n",
    "    print(DPChange(money, Coins))"
   ]
  }
 ],
 "metadata": {
  "kernelspec": {
   "display_name": "Python 3",
   "language": "python",
   "name": "python3"
  },
  "language_info": {
   "codemirror_mode": {
    "name": "ipython",
    "version": 3
   },
   "file_extension": ".py",
   "mimetype": "text/x-python",
   "name": "python",
   "nbconvert_exporter": "python",
   "pygments_lexer": "ipython3",
   "version": "3.7.0"
  }
 },
 "nbformat": 4,
 "nbformat_minor": 2
}
