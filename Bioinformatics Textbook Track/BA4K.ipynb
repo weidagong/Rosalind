{
 "cells": [
  {
   "cell_type": "markdown",
   "metadata": {},
   "source": [
    "# BA4K\n",
    "Compute the Score of a Linear Peptide Against a Spectrum"
   ]
  },
  {
   "cell_type": "code",
   "execution_count": 1,
   "metadata": {},
   "outputs": [],
   "source": [
    "with open('integer_mass_table.txt', 'r') as f:\n",
    "    massTable = {}\n",
    "    for line in f:\n",
    "        k, v = line.rstrip().split()\n",
    "        v = int(v)\n",
    "        massTable[k] = v\n",
    "\n",
    "def LinearSpectrum(peptide, massTable):\n",
    "    prefixMass = [0]\n",
    "    for i in range(1, len(peptide) + 1):\n",
    "        prefixMass.append(prefixMass[i-1] + massTable[peptide[i-1]])\n",
    "    totalMass = prefixMass[-1]\n",
    "    spectrum = [0]\n",
    "    for i in range(len(peptide)):\n",
    "        for j in range(i+1, len(peptide) + 1):\n",
    "            spectrum.append(prefixMass[j] - prefixMass[i])\n",
    "    spectrum.sort()\n",
    "    return spectrum"
   ]
  },
  {
   "cell_type": "code",
   "execution_count": 2,
   "metadata": {},
   "outputs": [],
   "source": [
    "def pepScoreLinear(peptide, spectrum, massTable):\n",
    "    pepSpec = LinearSpectrum(peptide, massTable)\n",
    "    score = 0\n",
    "    for mass in pepSpec:\n",
    "        if mass in spectrum:\n",
    "            score += 1\n",
    "            spectrum.remove(mass)\n",
    "    return score"
   ]
  },
  {
   "cell_type": "code",
   "execution_count": 5,
   "metadata": {},
   "outputs": [
    {
     "name": "stdout",
     "output_type": "stream",
     "text": [
      "304\n"
     ]
    }
   ],
   "source": [
    "with open('rosalind_ba4k.txt', 'r') as f:\n",
    "    peptide = f.readline().rstrip()\n",
    "    spectrum = f.readline().rstrip().split()\n",
    "    spectrum = [int(k) for k in spectrum]\n",
    "    print(pepScoreLinear(peptide, spectrum, massTable))"
   ]
  }
 ],
 "metadata": {
  "kernelspec": {
   "display_name": "Python 3",
   "language": "python",
   "name": "python3"
  },
  "language_info": {
   "codemirror_mode": {
    "name": "ipython",
    "version": 3
   },
   "file_extension": ".py",
   "mimetype": "text/x-python",
   "name": "python",
   "nbconvert_exporter": "python",
   "pygments_lexer": "ipython3",
   "version": "3.7.0"
  }
 },
 "nbformat": 4,
 "nbformat_minor": 2
}
