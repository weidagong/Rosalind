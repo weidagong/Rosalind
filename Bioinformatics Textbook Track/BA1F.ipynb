{
 "cells": [
  {
   "cell_type": "markdown",
   "metadata": {},
   "source": [
    "# BA1F Find a Position in a Genome Minimizing the Skew"
   ]
  },
  {
   "cell_type": "code",
   "execution_count": 33,
   "metadata": {
    "collapsed": true
   },
   "outputs": [],
   "source": [
    "def BA1F(filename):\n",
    "    with open(filename, 'r') as f:\n",
    "        genome = f.readline().rstrip()\n",
    "        skew = [0] * (len(genome) + 1)\n",
    "        for i in range(len(genome)):\n",
    "            if genome[i] == 'G':\n",
    "                skew[i + 1] = skew[i] + 1\n",
    "            elif genome[i] == 'C':\n",
    "                skew[i + 1] = skew[i] - 1\n",
    "            else:\n",
    "                skew[i + 1] = skew[i]\n",
    "        minValue = min(skew)\n",
    "        pos = [x for x in range(len(skew)) if skew[x] == minValue]\n",
    "        return(' '.join(str(x) for x in pos))"
   ]
  },
  {
   "cell_type": "markdown",
   "metadata": {},
   "source": [
    "## Test"
   ]
  },
  {
   "cell_type": "code",
   "execution_count": 34,
   "metadata": {},
   "outputs": [
    {
     "data": {
      "text/plain": [
       "'53 97'"
      ]
     },
     "execution_count": 34,
     "metadata": {},
     "output_type": "execute_result"
    }
   ],
   "source": [
    "BA1F('BA1F-test.txt')"
   ]
  },
  {
   "cell_type": "code",
   "execution_count": 35,
   "metadata": {},
   "outputs": [
    {
     "data": {
      "text/plain": [
       "'89969 89970 89971 90345 90346'"
      ]
     },
     "execution_count": 35,
     "metadata": {},
     "output_type": "execute_result"
    }
   ],
   "source": [
    "BA1F('BA1F-test2.txt')"
   ]
  },
  {
   "cell_type": "markdown",
   "metadata": {},
   "source": [
    "## Quiz"
   ]
  },
  {
   "cell_type": "code",
   "execution_count": 36,
   "metadata": {},
   "outputs": [
    {
     "data": {
      "text/plain": [
       "'98042 98043 98044'"
      ]
     },
     "execution_count": 36,
     "metadata": {},
     "output_type": "execute_result"
    }
   ],
   "source": [
    "BA1F('rosalind_ba1f.txt')"
   ]
  }
 ],
 "metadata": {
  "kernelspec": {
   "display_name": "Python 3",
   "language": "python",
   "name": "python3"
  },
  "language_info": {
   "codemirror_mode": {
    "name": "ipython",
    "version": 3
   },
   "file_extension": ".py",
   "mimetype": "text/x-python",
   "name": "python",
   "nbconvert_exporter": "python",
   "pygments_lexer": "ipython3",
   "version": "3.6.1"
  }
 },
 "nbformat": 4,
 "nbformat_minor": 2
}
