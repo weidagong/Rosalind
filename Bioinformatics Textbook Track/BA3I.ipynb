{
 "cells": [
  {
   "cell_type": "markdown",
   "metadata": {},
   "source": [
    "# BA3J Find a k-Universal Circular String"
   ]
  },
  {
   "cell_type": "code",
   "execution_count": 65,
   "metadata": {
    "collapsed": true
   },
   "outputs": [],
   "source": [
    "from collections import defaultdict\n",
    "import random\n",
    "import copy\n",
    "\n",
    "def allBinaryKmers(k):\n",
    "    allKmers = ['0', '1']\n",
    "    for i in range(0, k - 1):\n",
    "        allKmers = allKmers * 2\n",
    "        allKmers[:int(len(allKmers)/2)] = [allKmers[i] + '0' for i in range(int(len(allKmers)/2))]\n",
    "        allKmers[int(len(allKmers)/2):] = [allKmers[i] + '1' for i in range(int(len(allKmers)/2), len(allKmers))]\n",
    "    return(allKmers)\n",
    "\n",
    "def deBrujin(patterns):\n",
    "    nodes = defaultdict(list)\n",
    "    target = defaultdict(str)\n",
    "    for i in patterns:\n",
    "        target[i] = i[:-1]\n",
    "    for i in patterns:\n",
    "        if i[1:] in target.values():\n",
    "            nodes[i].extend([k for k,v in target.items() if v == i[1:] and k != i])\n",
    "    return(nodes)\n",
    "        \n",
    "def explored(graphDict):\n",
    "    totalValues = sum([len(graphDict[k]) for k in graphDict])\n",
    "    if totalValues == 0:\n",
    "        return True\n",
    "    return False\n",
    "\n",
    "def eulerCycle(graphDict):\n",
    "    startNode = random.choice(list(graphDict))\n",
    "    currNode = startNode\n",
    "    graphCopy = copy.deepcopy(graphDict)\n",
    "    visited = []\n",
    "    while len(graphCopy[currNode]) > 0:\n",
    "            visited.append(currNode)\n",
    "            nextNode = random.choice(graphCopy[currNode])\n",
    "            graphCopy[currNode].remove(nextNode)\n",
    "            currNode = nextNode\n",
    "            if nextNode == startNode:\n",
    "                break\n",
    "    while not explored(graphCopy):\n",
    "        #reorder visited\n",
    "        newStartNode = [k for k in visited if len(graphCopy[k]) > 0]\n",
    "        print(newStartNode)\n",
    "        idx = visited.index(newStartNode[0])\n",
    "        visited = visited[idx:] + visited[:idx]\n",
    "        currNode = newStartNode[0]\n",
    "        while len(graphCopy[currNode]) > 0:\n",
    "            visited.append(currNode)\n",
    "            nextNode = random.choice(graphCopy[currNode])\n",
    "            graphCopy[currNode].remove(nextNode)\n",
    "            currNode = nextNode\n",
    "            if nextNode == startNode:\n",
    "                break\n",
    "    visited.append(currNode)\n",
    "    return(visited)\n",
    "\n",
    "def inDegree(k, graphDict):\n",
    "    out = 0\n",
    "    for i in graphDict.keys():\n",
    "        if i == k:\n",
    "            continue\n",
    "        else:\n",
    "            if k in graphDict[i] : out += 1\n",
    "    return(out)\n",
    "\n",
    "def addEdge(graphDict):\n",
    "    #add edge to convert a semi-balanced graph into a balaced graph\n",
    "    allKeys = graphDict.keys()\n",
    "    allValues = []\n",
    "    for v in graphDict.values():\n",
    "        allValues.extend(v)\n",
    "    outNode = [k for k in graphDict.keys() if len(graphDict[k]) < inDegree(k, graphDict)]\n",
    "    outNode.extend([k for k in allValues if k not in allKeys])\n",
    "    inNode = [k for k in graphDict.keys() if len(graphDict[k]) > inDegree(k, graphDict)]\n",
    "    return inNode,outNode\n",
    "    \n",
    "def eulerPath(graphDict):\n",
    "    # @param graphDict: A dict of lists, keys are source nodes and values are target nodes\n",
    "    # built upon eulerCycle\n",
    "    inNode, outNode = addEdge(graphDict)\n",
    "    print(inNode)\n",
    "    print(outNode)\n",
    "    graphDict[outNode[0]].extend(inNode)\n",
    "    cycle = eulerCycle(graphDict)\n",
    "    #remove the last node which was added to form a eulerCycle\n",
    "    #if the last node is the inNode, remove first node (in this case, first node would be inNode as well)\n",
    "    #so remove first node to avoid out of index error in idx\n",
    "    if cycle[0] == inNode[0]:\n",
    "        cycle = cycle[1:]\n",
    "    else:\n",
    "        cycle = cycle[:-1]\n",
    "    idx = [x for x in range(len(cycle) - 1) if cycle[x] == outNode[0] and cycle[x + 1] == inNode[0]]\n",
    "    print(idx)\n",
    "    print(cycle)\n",
    "    cycle = cycle[idx[0] + 1:] + cycle[:idx[0] + 1]\n",
    "    genome = cycle[0] + ''.join([cycle[i][-1] for i in range(1, len(cycle), 1)])\n",
    "    return(genome)\n"
   ]
  },
  {
   "cell_type": "markdown",
   "metadata": {},
   "source": [
    "## Test"
   ]
  },
  {
   "cell_type": "code",
   "execution_count": 72,
   "metadata": {},
   "outputs": [
    {
     "name": "stdout",
     "output_type": "stream",
     "text": [
      "['1110', '1101', '1010', '0100', '1000', '0001', '0011', '0111']\n",
      "['1010', '0101']\n"
     ]
    },
    {
     "data": {
      "text/plain": [
       "['1010',\n",
       " '0100',\n",
       " '1000',\n",
       " '0000',\n",
       " '0001',\n",
       " '0011',\n",
       " '0111',\n",
       " '1111',\n",
       " '1110',\n",
       " '1100',\n",
       " '1001',\n",
       " '0011',\n",
       " '0110',\n",
       " '1101',\n",
       " '1011',\n",
       " '0110',\n",
       " '1100',\n",
       " '1000',\n",
       " '0001',\n",
       " '0010',\n",
       " '0100',\n",
       " '1001',\n",
       " '0010',\n",
       " '0101',\n",
       " '1011',\n",
       " '0111',\n",
       " '1110',\n",
       " '1101',\n",
       " '1010',\n",
       " '0101',\n",
       " '1010']"
      ]
     },
     "execution_count": 72,
     "metadata": {},
     "output_type": "execute_result"
    }
   ],
   "source": [
    "pattern = allBinaryKmers(4)\n",
    "testGraph = deBrujin(pattern)\n",
    "eulerCycle(testGraph)"
   ]
  },
  {
   "cell_type": "code",
   "execution_count": 66,
   "metadata": {},
   "outputs": [
    {
     "name": "stdout",
     "output_type": "stream",
     "text": [
      "defaultdict(<class 'list'>, {'0000': ['0001'], '1000': ['0000', '0001'], '0100': ['1000', '1001'], '1100': ['1000', '1001'], '0010': ['0100', '0101'], '1010': ['0100', '0101'], '0110': ['1100', '1101'], '1110': ['1100', '1101'], '0001': ['0010', '0011'], '1001': ['0010', '0011'], '0101': ['1010', '1011'], '1101': ['1010', '1011'], '0011': ['0110', '0111'], '1011': ['0110', '0111'], '0111': ['1110', '1111'], '1111': ['1110']})\n"
     ]
    }
   ],
   "source": [
    "pattern = allBinaryKmers(4)\n",
    "testGraph = deBrujin(pattern)\n",
    "print(testGraph)"
   ]
  },
  {
   "cell_type": "code",
   "execution_count": null,
   "metadata": {
    "collapsed": true
   },
   "outputs": [],
   "source": []
  },
  {
   "cell_type": "markdown",
   "metadata": {},
   "source": [
    "## Quiz"
   ]
  },
  {
   "cell_type": "code",
   "execution_count": null,
   "metadata": {
    "collapsed": true
   },
   "outputs": [],
   "source": []
  },
  {
   "cell_type": "code",
   "execution_count": null,
   "metadata": {
    "collapsed": true
   },
   "outputs": [],
   "source": []
  },
  {
   "cell_type": "code",
   "execution_count": null,
   "metadata": {
    "collapsed": true
   },
   "outputs": [],
   "source": []
  }
 ],
 "metadata": {
  "kernelspec": {
   "display_name": "Python 3",
   "language": "python",
   "name": "python3"
  },
  "language_info": {
   "codemirror_mode": {
    "name": "ipython",
    "version": 3
   },
   "file_extension": ".py",
   "mimetype": "text/x-python",
   "name": "python",
   "nbconvert_exporter": "python",
   "pygments_lexer": "ipython3",
   "version": "3.6.1"
  }
 },
 "nbformat": 4,
 "nbformat_minor": 2
}
