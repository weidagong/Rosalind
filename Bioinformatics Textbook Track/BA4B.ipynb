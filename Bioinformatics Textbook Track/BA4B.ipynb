{
 "cells": [
  {
   "cell_type": "markdown",
   "metadata": {},
   "source": [
    "# BA4B \tFind Substrings of a Genome Encoding a Given Amino Acid String"
   ]
  },
  {
   "cell_type": "code",
   "execution_count": 6,
   "metadata": {},
   "outputs": [],
   "source": [
    "from Bio.Seq import Seq\n",
    "from Bio.Alphabet import generic_dna\n",
    "\n",
    "def prot_from_genome(prot, genome):\n",
    "    nuc_len = 3 * len(prot)\n",
    "    genome = Seq(genome, generic_dna)\n",
    "    rc_genome = genome.reverse_complement()\n",
    "    seqs = []\n",
    "    for i in range(len(genome) - nuc_len + 1):\n",
    "        if str(genome[i:i + nuc_len].translate()) == prot:\n",
    "            seqs.append(genome[i:i+nuc_len])\n",
    "        if str(rc_genome[i:i + nuc_len].translate()) == prot:\n",
    "            seqs.append(rc_genome[i:i+nuc_len].reverse_complement())\n",
    "    return seqs"
   ]
  },
  {
   "cell_type": "code",
   "execution_count": 31,
   "metadata": {},
   "outputs": [
    {
     "name": "stdout",
     "output_type": "stream",
     "text": [
      "ATGGCC\n",
      "ATGGCC\n",
      "GGCCAT\n"
     ]
    }
   ],
   "source": [
    "with open('PeptideEncodingProblemTest1.txt', 'r') as f:\n",
    "    genome = f.readline().rstrip()\n",
    "    prot = f.readline().rstrip()\n",
    "    seqs = prot_from_genome(prot, genome)\n",
    "    seqs.sort()\n",
    "    print('\\n'.join([str(seq) for seq in seqs]))"
   ]
  },
  {
   "cell_type": "code",
   "execution_count": 7,
   "metadata": {},
   "outputs": [
    {
     "name": "stdout",
     "output_type": "stream",
     "text": [
      "ATGCCAACCATCCCTGTCTTGTGACCACTC\n",
      "ATGCCACCCGTCACGGTCCTGCGACCATTC\n",
      "ATGCCATCCATCCCGGTCCTGACTCCATTC\n",
      "GAATGGAGCCAGGATCGCGATGGATGGCAT\n",
      "GAATGGAGTCAAGACCGCGATGGTTGGCAC\n",
      "GAATGGTCCCAAGACAGAGACGGGTGGCAT\n",
      "GAATGGTCTCAAGATCGGGACGGGTGGCAT\n",
      "GAGTGGTCACAAGATCGGGATGGCTGGCAT\n",
      "GAGTGGTCCCAAGACAGGGACGGCTGGCAT\n",
      "GAGTGGTCCCAAGATCGAGACGGTTGGCAT\n",
      "GAGTGGTCGCAGGACCGTGACGGATGGCAC\n",
      "GAGTGGTCGCAGGATAGAGATGGTTGGCAC\n",
      "GAGTGGTCTCAAGATCGAGACGGGTGGCAC\n",
      "GAGTGGTCTCAGGACCGTGATGGTTGGCAT\n",
      "GTGCCAACCATCTCGGTCTTGTGACCATTC\n",
      "GTGCCAACCGTCACGGTCTTGGGACCACTC\n",
      "GTGCCAGCCGTCACGATCCTGTGACCACTC\n",
      "GTGCCATCCGTCTCGGTCTTGAGACCACTC\n",
      "GTGCCATCCGTCTCGGTCTTGAGACCATTC\n"
     ]
    }
   ],
   "source": [
    "with open('rosalind_ba4b.txt', 'r') as f:\n",
    "    genome = f.readline().rstrip()\n",
    "    prot = f.readline().rstrip()\n",
    "    seqs = prot_from_genome(prot, genome)\n",
    "    seqs.sort()\n",
    "    print('\\n'.join([str(seq) for seq in seqs]))"
   ]
  }
 ],
 "metadata": {
  "kernelspec": {
   "display_name": "Python 3",
   "language": "python",
   "name": "python3"
  },
  "language_info": {
   "codemirror_mode": {
    "name": "ipython",
    "version": 3
   },
   "file_extension": ".py",
   "mimetype": "text/x-python",
   "name": "python",
   "nbconvert_exporter": "python",
   "pygments_lexer": "ipython3",
   "version": "3.7.0"
  }
 },
 "nbformat": 4,
 "nbformat_minor": 2
}
