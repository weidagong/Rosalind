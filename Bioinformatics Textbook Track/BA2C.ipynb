{
 "cells": [
  {
   "cell_type": "markdown",
   "metadata": {},
   "source": [
    "# BA2C Find a Profile-most Probable k-mer in a String"
   ]
  },
  {
   "cell_type": "code",
   "execution_count": 22,
   "metadata": {
    "collapsed": true
   },
   "outputs": [],
   "source": [
    "import numpy as np\n",
    "from collections import defaultdict\n",
    "\n",
    "def readProfile(fd, k):\n",
    "    profile = np.zeros([4, k])\n",
    "    for i in range(4):\n",
    "        profile[i, :] = list(map(float, fd.readline().rstrip().split()))\n",
    "    return(profile)\n",
    "\n",
    "def BA2C(filename):\n",
    "    with open(filename, 'r') as f:\n",
    "        seq = f.readline().rstrip()\n",
    "        k = int(f.readline().rstrip())\n",
    "        profile = readProfile(f, k)\n",
    "        kmerProb = defaultdict(int)\n",
    "        base2number = {'A' : 0, 'C' : 1, 'G' : 2, 'T' : 3}\n",
    "        for i in range(len(seq) - k + 1):\n",
    "            prob = np.prod([profile[base2number[x], y] for x,y in zip(seq[i : i + k], range(k))])\n",
    "            if prob > kmerProb[seq[i : i + k]]:\n",
    "                kmerProb[seq[i : i + k]] = prob\n",
    "        maxProb = max(kmerProb.values())\n",
    "        maxKmer = [k for k,v in kmerProb.items() if v == maxProb]\n",
    "        return maxKmer"
   ]
  },
  {
   "cell_type": "markdown",
   "metadata": {},
   "source": [
    "## Test"
   ]
  },
  {
   "cell_type": "code",
   "execution_count": 23,
   "metadata": {},
   "outputs": [
    {
     "data": {
      "text/plain": [
       "['CCGAG']"
      ]
     },
     "execution_count": 23,
     "metadata": {},
     "output_type": "execute_result"
    }
   ],
   "source": [
    "BA2C('BA2C-test.txt')"
   ]
  },
  {
   "cell_type": "code",
   "execution_count": 25,
   "metadata": {},
   "outputs": [
    {
     "data": {
      "text/plain": [
       "['TGTCGC', 'TGACGC']"
      ]
     },
     "execution_count": 25,
     "metadata": {},
     "output_type": "execute_result"
    }
   ],
   "source": [
    "BA2C('BA2C-test2.txt')"
   ]
  },
  {
   "cell_type": "markdown",
   "metadata": {},
   "source": [
    "## Quiz"
   ]
  },
  {
   "cell_type": "code",
   "execution_count": 26,
   "metadata": {},
   "outputs": [
    {
     "data": {
      "text/plain": [
       "['GGTCGA']"
      ]
     },
     "execution_count": 26,
     "metadata": {},
     "output_type": "execute_result"
    }
   ],
   "source": [
    "BA2C('rosalind_ba2c.txt')"
   ]
  }
 ],
 "metadata": {
  "kernelspec": {
   "display_name": "Python 3",
   "language": "python",
   "name": "python3"
  },
  "language_info": {
   "codemirror_mode": {
    "name": "ipython",
    "version": 3
   },
   "file_extension": ".py",
   "mimetype": "text/x-python",
   "name": "python",
   "nbconvert_exporter": "python",
   "pygments_lexer": "ipython3",
   "version": "3.7.0"
  }
 },
 "nbformat": 4,
 "nbformat_minor": 2
}
