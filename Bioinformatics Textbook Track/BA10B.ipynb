{
 "cells": [
  {
   "cell_type": "markdown",
   "metadata": {},
   "source": [
    "# BA10B Compute the Probability of an Outcome Given a Hidden Path"
   ]
  },
  {
   "cell_type": "code",
   "execution_count": 3,
   "metadata": {
    "collapsed": true
   },
   "outputs": [],
   "source": [
    "def BA10B(filename):\n",
    "    i = 1\n",
    "    transition = {}\n",
    "    with open(filename, 'r') as f:\n",
    "        for line in f:\n",
    "            if i == 1:\n",
    "                string = line.rstrip()\n",
    "            if i == 5:\n",
    "                path = line.rstrip()\n",
    "            if i == 10:\n",
    "                transition['Ax'] = float(line.rstrip().split()[1])\n",
    "                transition['Ay'] = float(line.rstrip().split()[2])\n",
    "                transition['Az'] = float(line.rstrip().split()[3])\n",
    "            if i == 11:\n",
    "                transition['Bx'] = float(line.rstrip().split()[1])\n",
    "                transition['By'] = float(line.rstrip().split()[2])\n",
    "                transition['Bz'] = float(line.rstrip().split()[3])\n",
    "            i += 1\n",
    "    prob = 1\n",
    "    for i in range(len(string)):\n",
    "        prob = prob * transition[path[i] + string[i]]\n",
    "    return prob"
   ]
  },
  {
   "cell_type": "markdown",
   "metadata": {},
   "source": [
    "## Test"
   ]
  },
  {
   "cell_type": "code",
   "execution_count": 4,
   "metadata": {},
   "outputs": [
    {
     "name": "stdout",
     "output_type": "stream",
     "text": [
      "1.9315707089321372e-28\n"
     ]
    }
   ],
   "source": [
    "print(BA10B('BA10B-test.txt'))"
   ]
  },
  {
   "cell_type": "markdown",
   "metadata": {},
   "source": [
    "## Question"
   ]
  },
  {
   "cell_type": "code",
   "execution_count": 5,
   "metadata": {},
   "outputs": [
    {
     "name": "stdout",
     "output_type": "stream",
     "text": [
      "9.794320699138217e-27\n"
     ]
    }
   ],
   "source": [
    "print(BA10B('rosalind_ba10b.txt'))"
   ]
  }
 ],
 "metadata": {
  "kernelspec": {
   "display_name": "Python 3",
   "language": "python",
   "name": "python3"
  },
  "language_info": {
   "codemirror_mode": {
    "name": "ipython",
    "version": 3
   },
   "file_extension": ".py",
   "mimetype": "text/x-python",
   "name": "python",
   "nbconvert_exporter": "python",
   "pygments_lexer": "ipython3",
   "version": "3.6.1"
  }
 },
 "nbformat": 4,
 "nbformat_minor": 2
}
