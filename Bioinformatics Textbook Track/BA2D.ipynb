{
 "cells": [
  {
   "cell_type": "markdown",
   "metadata": {},
   "source": [
    "# BA2D Implement GreedyMotifSearch"
   ]
  },
  {
   "cell_type": "code",
   "execution_count": 18,
   "metadata": {},
   "outputs": [],
   "source": [
    "import numpy as np\n",
    "\n",
    "def formProfile(seqs):\n",
    "    profiles = np.zeros([4, len(seqs[0])])\n",
    "    number2base = {0 : 'A', 1 : 'C', 2 : 'G', 3 : 'T'}\n",
    "    for i in range(4):\n",
    "        for j in range(len(seqs[0])):\n",
    "            profiles[i, j] = float(sum([x[j] == number2base[i] for x in seqs]))/len(seqs)\n",
    "    return(profiles)\n",
    "\n",
    "\n",
    "def scoreMotif(seqs):\n",
    "    score = 0\n",
    "    profile = formProfile(seqs)\n",
    "    number2base = {0 : 'A', 1 : 'C', 2 : 'G', 3 : 'T'}\n",
    "    for i in range(len(seqs[0])):\n",
    "        score += max(profile[:, i]) * len(seqs)\n",
    "    return(score)\n",
    "\n",
    "def kmerfromProfile(seq, profile):\n",
    "    kmers = []\n",
    "    prob = []\n",
    "    base2number = {'A' : 0, 'C' : 1, 'G' : 2, 'T' : 3}\n",
    "    for i in range(len(seq) - profile.shape[1] + 1):\n",
    "        kmers.append(seq[i : i + profile.shape[1]])\n",
    "        prob.append(np.prod([profile[base2number[x], y] for x,y in zip(seq[i : i + profile.shape[1]], range(profile.shape[1]))]))\n",
    "    idx = prob.index(max(prob))\n",
    "    return kmers[idx]\n",
    "\n",
    "def GreedyMotifSearch(dna, k, t):\n",
    "    BestMotifs = [i[0 : k] for i in dna]\n",
    "    scoreBestMotifs = scoreMotif(BestMotifs)\n",
    "    for i in range(len(dna[0]) - k + 1):\n",
    "        motif = []\n",
    "        motif.append(dna[0][i : i + k])\n",
    "        for j in range(1, t, 1):\n",
    "            profile = formProfile(motif)\n",
    "            motif.append(kmerfromProfile(dna[j], profile))\n",
    "        if scoreMotif(motif) > scoreBestMotifs:\n",
    "            BestMotifs = motif\n",
    "            scoreBestMotifs = scoreMotif(BestMotifs)\n",
    "    return BestMotifs\n",
    "\n",
    "def BA2D(filename):\n",
    "    with open(filename) as f:\n",
    "        k,t = list(map(int, f.readline().rstrip().split()))\n",
    "        dna = []\n",
    "        for line in f:\n",
    "            dna.append(line.rstrip())\n",
    "        bestmotifs = GreedyMotifSearch(dna, k, t)\n",
    "        for motif in bestmotifs:\n",
    "            print(motif)"
   ]
  },
  {
   "cell_type": "markdown",
   "metadata": {},
   "source": [
    "## Test"
   ]
  },
  {
   "cell_type": "code",
   "execution_count": 19,
   "metadata": {},
   "outputs": [
    {
     "name": "stdout",
     "output_type": "stream",
     "text": [
      "CAG\n",
      "CAG\n",
      "CAA\n",
      "CAA\n",
      "CAA\n"
     ]
    }
   ],
   "source": [
    "BA2D('BA2D-test.txt')"
   ]
  },
  {
   "cell_type": "code",
   "execution_count": 20,
   "metadata": {},
   "outputs": [
    {
     "name": "stdout",
     "output_type": "stream",
     "text": [
      "AGTGGGTATCTC\n",
      "TAAAAAGGTATA\n",
      "AACCACGAGTAC\n",
      "TGTCATGTGCGG\n",
      "AACCTAAACCCT\n",
      "AGTCGTTATCCC\n",
      "AGTAATATGTAC\n",
      "AGTGGTTATCAC\n",
      "AGTGGTTATCCC\n",
      "AGTGGCTATCGC\n",
      "AGTGGATATCCC\n",
      "AGTGAGAAGCAA\n",
      "AGTGACTAGACA\n",
      "TAAGACTAGTTA\n",
      "TATGAAGGGTGA\n",
      "AGTCGGGATAAC\n",
      "AGTGGGTATCTC\n",
      "AGCGGTTAGTCA\n",
      "AGTGAAATTCCT\n",
      "TGTGGATGGCTT\n",
      "TGTAGGTATCAC\n",
      "TGCAGATATCCA\n",
      "TGTGGTTATCAC\n",
      "TGTCATTATTCA\n",
      "TGCGTAGATCAA\n"
     ]
    }
   ],
   "source": [
    "BA2D('BA2D-test2.txt')"
   ]
  },
  {
   "cell_type": "markdown",
   "metadata": {},
   "source": [
    "## Quiz"
   ]
  },
  {
   "cell_type": "code",
   "execution_count": 21,
   "metadata": {},
   "outputs": [
    {
     "name": "stdout",
     "output_type": "stream",
     "text": [
      "CACCCCTCCGTC\n",
      "CGGGACAGCGCA\n",
      "TATTTAGAATGG\n",
      "TCTGATACCTGC\n",
      "ACTCCTCGTCGC\n",
      "TCTCCTGACTCA\n",
      "TCTTCAGGTTGC\n",
      "CCTTAAAGTTCA\n",
      "TCTCATGCCTTG\n",
      "CCTTCTACACTG\n",
      "TCTTTTGCTTGC\n",
      "TCCCATGGCTCC\n",
      "TCCTAAGCACCA\n",
      "CATGAAAGCCCC\n",
      "TCTCCCTCCCGC\n",
      "TCTCCTAGTTTC\n",
      "TCCCTTGCCTTC\n",
      "TCTCCTGACTTC\n",
      "TCTCATGGCTCA\n",
      "TCCCTTGCCTTG\n",
      "CCGTCTGCCCCA\n",
      "CATGACGCCCGC\n",
      "TGTCCAACCTTA\n",
      "TATCATACTGGG\n",
      "TCTCCAACAGGA\n"
     ]
    }
   ],
   "source": [
    "BA2D('rosalind_ba2d.txt')"
   ]
  }
 ],
 "metadata": {
  "kernelspec": {
   "display_name": "Python 3",
   "language": "python",
   "name": "python3"
  },
  "language_info": {
   "codemirror_mode": {
    "name": "ipython",
    "version": 3
   },
   "file_extension": ".py",
   "mimetype": "text/x-python",
   "name": "python",
   "nbconvert_exporter": "python",
   "pygments_lexer": "ipython3",
   "version": "3.7.0"
  }
 },
 "nbformat": 4,
 "nbformat_minor": 2
}
