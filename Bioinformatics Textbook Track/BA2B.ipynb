{
 "cells": [
  {
   "cell_type": "markdown",
   "metadata": {},
   "source": [
    "# BA2B Find a Median String"
   ]
  },
  {
   "cell_type": "code",
   "execution_count": 5,
   "metadata": {
    "collapsed": true
   },
   "outputs": [],
   "source": [
    "from itertools import product\n",
    "from collections import defaultdict\n",
    "\n",
    "def allKmer(k):\n",
    "    kmers = [''.join(i) for i in product('AGCT', repeat = k)]\n",
    "    return kmers\n",
    "\n",
    "def hammingDist(genome, kmer):\n",
    "    dist = []\n",
    "    for i in range(len(genome) - len(kmer) + 1):\n",
    "        dist.append(sum(x != y for x,y in zip(genome[i : i + len(kmer)], kmer)))\n",
    "    return(min(dist))\n",
    "\n",
    "def BA2B(filename):\n",
    "    with open(filename) as f:\n",
    "        k = int(f.readline().rstrip()[0])\n",
    "        dna = []\n",
    "        for line in f:\n",
    "            dna.append(line.rstrip())\n",
    "        allKmers = allKmer(k)\n",
    "        allKmersDic = defaultdict(int)\n",
    "        for kmer in allKmers:\n",
    "            hm = 0\n",
    "            for seq in dna:\n",
    "                hm += hammingDist(seq, kmer)\n",
    "            allKmersDic[kmer] += hm\n",
    "        minhm = min(allKmersDic.values())\n",
    "        minkmer = [k for k,v in allKmersDic.items() if v == minhm]\n",
    "        return minkmer"
   ]
  },
  {
   "cell_type": "markdown",
   "metadata": {},
   "source": [
    "## Test"
   ]
  },
  {
   "cell_type": "code",
   "execution_count": 6,
   "metadata": {},
   "outputs": [
    {
     "data": {
      "text/plain": [
       "['ACG', 'GAC']"
      ]
     },
     "execution_count": 6,
     "metadata": {},
     "output_type": "execute_result"
    }
   ],
   "source": [
    "BA2B('BA2B-test.txt')"
   ]
  },
  {
   "cell_type": "code",
   "execution_count": 8,
   "metadata": {},
   "outputs": [
    {
     "data": {
      "text/plain": [
       "['CGGCGA']"
      ]
     },
     "execution_count": 8,
     "metadata": {},
     "output_type": "execute_result"
    }
   ],
   "source": [
    "BA2B('BA2B-test2.txt')"
   ]
  },
  {
   "cell_type": "markdown",
   "metadata": {},
   "source": [
    "## Quiz"
   ]
  },
  {
   "cell_type": "code",
   "execution_count": 9,
   "metadata": {},
   "outputs": [
    {
     "data": {
      "text/plain": [
       "['ATAGTC', 'ATAGTT']"
      ]
     },
     "execution_count": 9,
     "metadata": {},
     "output_type": "execute_result"
    }
   ],
   "source": [
    "BA2B('rosalind_ba2b.txt')"
   ]
  }
 ],
 "metadata": {
  "kernelspec": {
   "display_name": "Python 3",
   "language": "python",
   "name": "python3"
  },
  "language_info": {
   "codemirror_mode": {
    "name": "ipython",
    "version": 3
   },
   "file_extension": ".py",
   "mimetype": "text/x-python",
   "name": "python",
   "nbconvert_exporter": "python",
   "pygments_lexer": "ipython3",
   "version": "3.7.0"
  }
 },
 "nbformat": 4,
 "nbformat_minor": 2
}
