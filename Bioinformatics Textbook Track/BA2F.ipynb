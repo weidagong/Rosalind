{
 "cells": [
  {
   "cell_type": "markdown",
   "metadata": {},
   "source": [
    "# BA2F Implement RandomizedMotifSearch"
   ]
  },
  {
   "cell_type": "code",
   "execution_count": 10,
   "metadata": {
    "collapsed": true
   },
   "outputs": [],
   "source": [
    "import numpy as np\n",
    "import random\n",
    "\n",
    "def formProfile(seqs):\n",
    "    profiles = np.ones([4, len(seqs[0])])\n",
    "    number2base = {0 : 'A', 1 : 'C', 2 : 'G', 3 : 'T'}\n",
    "    for i in range(4):\n",
    "        for j in range(len(seqs[0])):\n",
    "            profiles[i, j] += float(sum([x[j] == number2base[i] for x in seqs]))/len(seqs) #different than BA2D, add 1 pseudocount\n",
    "    return(profiles)\n",
    "\n",
    "\n",
    "def scoreMotif(seqs):\n",
    "    score = 0\n",
    "    profile = formProfile(seqs)\n",
    "    number2base = {0 : 'A', 1 : 'C', 2 : 'G', 3 : 'T'}\n",
    "    for i in range(len(seqs[0])):\n",
    "        score += max(profile[:, i]) * len(seqs) - 1 #different than BA2D\n",
    "    return(score)\n",
    "\n",
    "def kmerfromProfile(seq, profile):\n",
    "    kmers = []\n",
    "    prob = []\n",
    "    base2number = {'A' : 0, 'C' : 1, 'G' : 2, 'T' : 3}\n",
    "    for i in range(len(seq) - profile.shape[1] + 1):\n",
    "        kmers.append(seq[i : i + profile.shape[1]])\n",
    "        prob.append(np.prod([profile[base2number[x], y] for x,y in zip(seq[i : i + profile.shape[1]], range(profile.shape[1]))]))\n",
    "    idx = prob.index(max(prob))\n",
    "    return kmers[idx]\n",
    "\n",
    "def RandomizedMotifSearch(dna, k, t):\n",
    "    idx = [random.choice(range(len(dna[0]) - k + 1)) for _ in range(t)]\n",
    "    kmers = [dna[i][idx[i] : idx[i] + k] for i in range(t)]\n",
    "    bestMotifs = kmers\n",
    "    scoreBestMotifs = scoreMotif(bestMotifs)\n",
    "    profile = formProfile(bestMotifs)\n",
    "    while True:\n",
    "        motifs = []\n",
    "        for i in range(t):\n",
    "            motifs.append(kmerfromProfile(dna[i], profile))\n",
    "        if scoreMotif(motifs) > scoreBestMotifs:\n",
    "            bestMotifs = motifs\n",
    "            scoreBestMotifs = scoreMotif(motifs)\n",
    "            profile = formProfile(bestMotifs)\n",
    "        else:\n",
    "            return(bestMotifs, scoreBestMotifs)\n",
    "        \n",
    "def BA2F(filename):\n",
    "    with open(filename, 'r') as f:\n",
    "        k, t = list(map(int, f.readline().rstrip().split()))\n",
    "        dna = []\n",
    "        for line in f:\n",
    "            dna.append(line.rstrip())\n",
    "        allScores = []\n",
    "        allMotifs = []\n",
    "        for i in range(1000):\n",
    "            motifs, scores = RandomizedMotifSearch(dna, k, t)\n",
    "            allScores.append(scores)\n",
    "            allMotifs.append(motifs)\n",
    "        bestMotifs = allMotifs[allScores.index(max(allScores))]\n",
    "        for i in bestMotifs:\n",
    "            print(i)\n",
    "        return bestMotifs"
   ]
  },
  {
   "cell_type": "markdown",
   "metadata": {},
   "source": [
    "## Test"
   ]
  },
  {
   "cell_type": "code",
   "execution_count": 8,
   "metadata": {},
   "outputs": [
    {
     "name": "stdout",
     "output_type": "stream",
     "text": [
      "TCTCGGGG\n",
      "CCAAGGTG\n",
      "TACAGGCG\n",
      "TTCAGGTG\n",
      "TCCACGTG\n"
     ]
    },
    {
     "data": {
      "text/plain": [
       "['TCTCGGGG', 'CCAAGGTG', 'TACAGGCG', 'TTCAGGTG', 'TCCACGTG']"
      ]
     },
     "execution_count": 8,
     "metadata": {},
     "output_type": "execute_result"
    }
   ],
   "source": [
    "BA2F('BA2F-test.txt')"
   ]
  },
  {
   "cell_type": "code",
   "execution_count": 9,
   "metadata": {},
   "outputs": [
    {
     "name": "stdout",
     "output_type": "stream",
     "text": [
      "CATGGGGAAAACTGA\n",
      "CCTCTCGATCACCGA\n",
      "CCTATAGATCACCGA\n",
      "CCGATTGATCACCGA\n",
      "CCTTGTGCAGACCGA\n",
      "CCTTGCCTTCACCGA\n",
      "CCTTGTTGCCACCGA\n",
      "ACTTGTGATCACCTT\n",
      "CCTTGTGATCAATTA\n",
      "CCTTGTGATCTGTGA\n",
      "CCTTGTGATCACTCC\n",
      "AACTGTGATCACCGA\n",
      "CCTTAGTATCACCGA\n",
      "CCTTGTGAAATCCGA\n",
      "CCTTGTCGCCACCGA\n",
      "TGTTGTGATCACCGC\n",
      "CACCGTGATCACCGA\n",
      "CCTTGGTTTCACCGA\n",
      "CCTTTGCATCACCGA\n",
      "CCTTGTGATTTACGA\n"
     ]
    },
    {
     "data": {
      "text/plain": [
       "['CATGGGGAAAACTGA',\n",
       " 'CCTCTCGATCACCGA',\n",
       " 'CCTATAGATCACCGA',\n",
       " 'CCGATTGATCACCGA',\n",
       " 'CCTTGTGCAGACCGA',\n",
       " 'CCTTGCCTTCACCGA',\n",
       " 'CCTTGTTGCCACCGA',\n",
       " 'ACTTGTGATCACCTT',\n",
       " 'CCTTGTGATCAATTA',\n",
       " 'CCTTGTGATCTGTGA',\n",
       " 'CCTTGTGATCACTCC',\n",
       " 'AACTGTGATCACCGA',\n",
       " 'CCTTAGTATCACCGA',\n",
       " 'CCTTGTGAAATCCGA',\n",
       " 'CCTTGTCGCCACCGA',\n",
       " 'TGTTGTGATCACCGC',\n",
       " 'CACCGTGATCACCGA',\n",
       " 'CCTTGGTTTCACCGA',\n",
       " 'CCTTTGCATCACCGA',\n",
       " 'CCTTGTGATTTACGA']"
      ]
     },
     "execution_count": 9,
     "metadata": {},
     "output_type": "execute_result"
    }
   ],
   "source": [
    "BA2F('BA2F-test2.txt')"
   ]
  },
  {
   "cell_type": "code",
   "execution_count": 11,
   "metadata": {},
   "outputs": [
    {
     "name": "stdout",
     "output_type": "stream",
     "text": [
      "CGATAA\n",
      "GGTTAA\n",
      "GGTATA\n",
      "GGTTAA\n",
      "GGTTAC\n",
      "GGTTAA\n",
      "GGCCAA\n",
      "GGTTAA\n"
     ]
    },
    {
     "data": {
      "text/plain": [
       "['CGATAA',\n",
       " 'GGTTAA',\n",
       " 'GGTATA',\n",
       " 'GGTTAA',\n",
       " 'GGTTAC',\n",
       " 'GGTTAA',\n",
       " 'GGCCAA',\n",
       " 'GGTTAA']"
      ]
     },
     "execution_count": 11,
     "metadata": {},
     "output_type": "execute_result"
    }
   ],
   "source": [
    "BA2F('BA2F-test3.txt')"
   ]
  },
  {
   "cell_type": "markdown",
   "metadata": {},
   "source": [
    "## Quiz"
   ]
  },
  {
   "cell_type": "code",
   "execution_count": 12,
   "metadata": {},
   "outputs": [
    {
     "name": "stdout",
     "output_type": "stream",
     "text": [
      "AAGGATGCCGTAAGT\n",
      "TAGGCCGGCATAAGT\n",
      "TTCAGAGGCATAAGT\n",
      "TAGTGCCACATAAGT\n",
      "TAGTCGAGCATAAGT\n",
      "TAGTGACCGATAAGT\n",
      "GAGTGAGGCATAAAC\n",
      "ACATGAGGCATAAGT\n",
      "TAGTGAGGCATAGCG\n",
      "TAGTGAGGCCAGAGT\n",
      "TAACAAGGCATAAGT\n",
      "TAGTGAGATGTAAGT\n",
      "TAGTGAGGACGAAGT\n",
      "TAGCCTGGCATAAGT\n",
      "TAGTGCTCCATAAGT\n",
      "TAGTGACTTATAAGT\n",
      "TAGTGAGGCAGTGGT\n",
      "ACGTGAGGCATAAGG\n",
      "TAGTCTAGCATAAGT\n",
      "TAGTGAGGCATCTAT\n"
     ]
    },
    {
     "data": {
      "text/plain": [
       "['AAGGATGCCGTAAGT',\n",
       " 'TAGGCCGGCATAAGT',\n",
       " 'TTCAGAGGCATAAGT',\n",
       " 'TAGTGCCACATAAGT',\n",
       " 'TAGTCGAGCATAAGT',\n",
       " 'TAGTGACCGATAAGT',\n",
       " 'GAGTGAGGCATAAAC',\n",
       " 'ACATGAGGCATAAGT',\n",
       " 'TAGTGAGGCATAGCG',\n",
       " 'TAGTGAGGCCAGAGT',\n",
       " 'TAACAAGGCATAAGT',\n",
       " 'TAGTGAGATGTAAGT',\n",
       " 'TAGTGAGGACGAAGT',\n",
       " 'TAGCCTGGCATAAGT',\n",
       " 'TAGTGCTCCATAAGT',\n",
       " 'TAGTGACTTATAAGT',\n",
       " 'TAGTGAGGCAGTGGT',\n",
       " 'ACGTGAGGCATAAGG',\n",
       " 'TAGTCTAGCATAAGT',\n",
       " 'TAGTGAGGCATCTAT']"
      ]
     },
     "execution_count": 12,
     "metadata": {},
     "output_type": "execute_result"
    }
   ],
   "source": [
    "BA2F('rosalind_ba2f.txt')"
   ]
  }
 ],
 "metadata": {
  "kernelspec": {
   "display_name": "Python 3",
   "language": "python",
   "name": "python3"
  },
  "language_info": {
   "codemirror_mode": {
    "name": "ipython",
    "version": 3
   },
   "file_extension": ".py",
   "mimetype": "text/x-python",
   "name": "python",
   "nbconvert_exporter": "python",
   "pygments_lexer": "ipython3",
   "version": "3.6.1"
  }
 },
 "nbformat": 4,
 "nbformat_minor": 2
}
