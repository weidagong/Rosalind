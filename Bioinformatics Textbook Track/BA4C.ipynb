{
 "cells": [
  {
   "cell_type": "markdown",
   "metadata": {},
   "source": [
    "# BA4C Generate the Theoretical Spectrum of a Cyclic Peptide"
   ]
  },
  {
   "cell_type": "code",
   "execution_count": 1,
   "metadata": {},
   "outputs": [],
   "source": [
    "with open('integer_mass_table.txt', 'r') as f:\n",
    "    massTable = {}\n",
    "    for line in f:\n",
    "        k, v = line.rstrip().split()\n",
    "        v = int(v)\n",
    "        massTable[k] = v\n",
    "\n",
    "def CyclicSpectrum(peptide, massTable):\n",
    "    prefixMass = [0]\n",
    "    for i in range(1, len(peptide) + 1):\n",
    "        prefixMass.append(prefixMass[i-1] + massTable[peptide[i-1]])\n",
    "    totalMass = prefixMass[len(peptide)]\n",
    "    spectrum = [0]\n",
    "    for i in range(len(peptide)):\n",
    "        for j in range(i+1, len(peptide) + 1):\n",
    "            spectrum.append(prefixMass[j] - prefixMass[i])\n",
    "            if i > 0 and j < len(peptide):\n",
    "                spectrum.append(totalMass - (prefixMass[j] - prefixMass[i]))\n",
    "    spectrum.sort()\n",
    "    return spectrum"
   ]
  },
  {
   "cell_type": "code",
   "execution_count": 2,
   "metadata": {},
   "outputs": [
    {
     "name": "stdout",
     "output_type": "stream",
     "text": [
      "0 57 87 97 99 101 101 114 115 128 128 129 147 156 163 171 185 212 213 215 216 226 227 229 248 250 264 270 272 285 299 303 313 328 341 341 344 351 378 382 386 398 398 404 411 432 435 441 442 442 443 479 485 497 498 499 526 529 533 536 540 549 557 567 570 598 613 614 626 627 630 644 648 650 654 654 669 683 696 711 714 726 742 745 745 749 776 782 783 783 793 797 825 829 839 839 840 846 873 877 877 880 896 908 911 926 939 953 968 968 972 974 978 992 995 996 1008 1009 1024 1052 1055 1065 1073 1082 1086 1089 1093 1096 1123 1124 1125 1137 1143 1179 1180 1180 1181 1187 1190 1211 1218 1224 1224 1236 1240 1244 1271 1278 1281 1281 1294 1309 1319 1323 1337 1350 1352 1358 1372 1374 1393 1395 1396 1406 1407 1409 1410 1437 1451 1459 1466 1475 1493 1494 1494 1507 1508 1521 1521 1523 1525 1535 1565 1622\n"
     ]
    }
   ],
   "source": [
    "peptide = 'REPDTKVNGKSYTF'\n",
    "out = CyclicSpectrum(peptide, massTable)\n",
    "print(' '.join([str(i) for i in out]))"
   ]
  }
 ],
 "metadata": {
  "kernelspec": {
   "display_name": "Python 3",
   "language": "python",
   "name": "python3"
  },
  "language_info": {
   "codemirror_mode": {
    "name": "ipython",
    "version": 3
   },
   "file_extension": ".py",
   "mimetype": "text/x-python",
   "name": "python",
   "nbconvert_exporter": "python",
   "pygments_lexer": "ipython3",
   "version": "3.7.0"
  }
 },
 "nbformat": 4,
 "nbformat_minor": 2
}
