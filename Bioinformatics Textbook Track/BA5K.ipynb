{
 "cells": [
  {
   "cell_type": "markdown",
   "metadata": {},
   "source": [
    "# BA5K Find a Middle Edge in an Alignment Graph in Linear Space"
   ]
  },
  {
   "cell_type": "code",
   "execution_count": 1,
   "metadata": {},
   "outputs": [],
   "source": [
    "import pandas as pd\n",
    "\n",
    "\n",
    "scoreMatrix62 = pd.read_csv('scoreMatrix62.txt', delim_whitespace=True)\n",
    "scoreMatrix250 = pd.read_csv('scoreMatrix250.txt', delim_whitespace=True)"
   ]
  },
  {
   "cell_type": "code",
   "execution_count": 2,
   "metadata": {},
   "outputs": [],
   "source": [
    "def middleColumnScore(v, w, matrix, sigma ):    \n",
    "    S = [[i*j*sigma for j in range(-1, 1)] for i in range(len(v)+1)]\n",
    "    S[0][1] = -sigma\n",
    "    backtrack = [0]*(len(v)+1)\n",
    "    for j in range(1, int(len(w)/2+1)):\n",
    "        for i in range(0, len(v)+1):\n",
    "            if i == 0:\n",
    "                S[i][1] = -j*sigma\n",
    "            else:\n",
    "                scores = [S[i-1][0] + matrix[v[i-1]][w[j-1]], S[i][0] - sigma, S[i-1][1] - sigma]\n",
    "                S[i][1] = max(scores)\n",
    "                backtrack[i] = scores.index(S[i][1])\n",
    "        if j != len(w)/2:\n",
    "            S = [[row[1]]*2 for row in S]\n",
    "    return [row[1] for row in S], backtrack\n",
    "    \n",
    "def middleEdge( v, w, matrix, sigma ):\n",
    "    sourceToMiddle = middleColumnScore(v, w, matrix, sigma)[0]\n",
    "    middleToSink, backtrack = map(lambda l: l[::-1], middleColumnScore(v[::-1], w[::-1]+['', '$'][len(w) % 2 == 1 and len(w) > 1], matrix, sigma))\n",
    "    scores = [sourceToMiddle[i] + middleToSink[i] for i in range(len(sourceToMiddle))]\n",
    "    maxMiddle = max(range(len(scores)), key=lambda i: scores[i])\n",
    "    if maxMiddle == len(scores) - 1:\n",
    "        nextNode = (maxMiddle, int(len(w)/2 + 1))\n",
    "    else:\n",
    "        nextNode = [(maxMiddle + 1, int(len(w)/2 + 1)), (maxMiddle, int(len(w)/2 + 1)), (maxMiddle + 1, int(len(w)/2)),][backtrack[maxMiddle]]\n",
    "    return (maxMiddle, int(len(w)/2)), nextNode"
   ]
  },
  {
   "cell_type": "code",
   "execution_count": 3,
   "metadata": {},
   "outputs": [
    {
     "data": {
      "text/plain": [
       "((4, 3), (5, 4))"
      ]
     },
     "execution_count": 3,
     "metadata": {},
     "output_type": "execute_result"
    }
   ],
   "source": [
    "middleEdge('PLEASANTLY', 'MEASNLY', scoreMatrix62, 5)"
   ]
  },
  {
   "cell_type": "code",
   "execution_count": 4,
   "metadata": {},
   "outputs": [
    {
     "name": "stdout",
     "output_type": "stream",
     "text": [
      "((513, 508), (514, 509))\n"
     ]
    }
   ],
   "source": [
    "with open(\"rosalind_ba5k.txt\", 'r') as f:\n",
    "    v = f.readline().rstrip()\n",
    "    w = f.readline().rstrip()\n",
    "    print(middleEdge(v, w, scoreMatrix62, 5))\n"
   ]
  }
 ],
 "metadata": {
  "kernelspec": {
   "display_name": "Python 3",
   "language": "python",
   "name": "python3"
  },
  "language_info": {
   "codemirror_mode": {
    "name": "ipython",
    "version": 3
   },
   "file_extension": ".py",
   "mimetype": "text/x-python",
   "name": "python",
   "nbconvert_exporter": "python",
   "pygments_lexer": "ipython3",
   "version": "3.7.0"
  }
 },
 "nbformat": 4,
 "nbformat_minor": 2
}
