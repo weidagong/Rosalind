{
 "cells": [
  {
   "cell_type": "markdown",
   "metadata": {},
   "source": [
    "# BA5G\n",
    "Compute the Edit Distance Between Two Strings"
   ]
  },
  {
   "cell_type": "code",
   "execution_count": 1,
   "metadata": {
    "collapsed": true
   },
   "outputs": [],
   "source": [
    "import numpy as np\n",
    "\n",
    "def editDist(v, w):\n",
    "    D = np.zeros([len(v) + 1, len(w) + 1])\n",
    "    for i in range(len(v) + 1):\n",
    "        D[i, 0] = i\n",
    "    for j in range(len(w) + 1):\n",
    "        D[0, j] = j\n",
    "    for i in range(1, len(v) + 1):\n",
    "        for j in range(1, len(w) + 1):\n",
    "            horizontal = D[i, j-1] + 1\n",
    "            vertical = D[i-1, j] + 1\n",
    "            if v[i-1] == w[j-1]:\n",
    "                diag = D[i-1, j-1]\n",
    "            else:\n",
    "                diag = D[i-1, j-1] + 1\n",
    "            D[i,j] = min(horizontal, vertical, diag)\n",
    "    return D[-1, -1]"
   ]
  },
  {
   "cell_type": "code",
   "execution_count": 2,
   "metadata": {},
   "outputs": [
    {
     "name": "stdout",
     "output_type": "stream",
     "text": [
      "1622.0\n"
     ]
    }
   ],
   "source": [
    "with open('rosalind_ba5g.txt', 'r') as f:\n",
    "    v = f.readline().rstrip()\n",
    "    w = f.readline().rstrip()\n",
    "    print(editDist(v, w))"
   ]
  },
  {
   "cell_type": "code",
   "execution_count": null,
   "metadata": {
    "collapsed": true
   },
   "outputs": [],
   "source": []
  },
  {
   "cell_type": "code",
   "execution_count": null,
   "metadata": {
    "collapsed": true
   },
   "outputs": [],
   "source": []
  },
  {
   "cell_type": "code",
   "execution_count": null,
   "metadata": {
    "collapsed": true
   },
   "outputs": [],
   "source": []
  }
 ],
 "metadata": {
  "kernelspec": {
   "display_name": "Python 3",
   "language": "python",
   "name": "python3"
  },
  "language_info": {
   "codemirror_mode": {
    "name": "ipython",
    "version": 3
   },
   "file_extension": ".py",
   "mimetype": "text/x-python",
   "name": "python",
   "nbconvert_exporter": "python",
   "pygments_lexer": "ipython3",
   "version": "3.6.1"
  }
 },
 "nbformat": 4,
 "nbformat_minor": 2
}
