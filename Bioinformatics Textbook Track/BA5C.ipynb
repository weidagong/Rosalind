{
 "cells": [
  {
   "cell_type": "markdown",
   "metadata": {},
   "source": [
    "# BA5C\n",
    "Find a Longest Common Subsequence of Two Strings"
   ]
  },
  {
   "cell_type": "code",
   "execution_count": 71,
   "metadata": {},
   "outputs": [],
   "source": [
    "def LCSBackTrack(v, w):\n",
    "    score = np.zeros([len(v) + 1, len(w) + 1])\n",
    "    backtrack = [[] for _ in range(len(v))]\n",
    "    for i in range(1, len(v) + 1):\n",
    "        score[i, 0] = 0\n",
    "    for j in range(1, len(w) + 1):\n",
    "        score[0, j] = 0\n",
    "    for i in range(1, len(v) + 1):\n",
    "        for j in range(1, len(w) + 1):\n",
    "            diag = score[i - 1, j - 1] + int(v[i - 1] == w[j - 1])\n",
    "            horizontal = score[i, j - 1]\n",
    "            vertical = score[i - 1, j]\n",
    "            score[i, j] = max(diag, horizontal, vertical)\n",
    "            if score[i, j] == score[i - 1,j]:\n",
    "                backtrack[i - 1].append(\"↓\")\n",
    "            elif score[i, j] == score[i, j - 1]:\n",
    "                backtrack[i - 1].append(\"→\")\n",
    "            elif score[i, j] == score[i - 1, j - 1] + int(v[i - 1] == w[j - 1]):\n",
    "                backtrack[i - 1].append(\"↘\")\n",
    "    return backtrack\n",
    "                     "
   ]
  },
  {
   "cell_type": "code",
   "execution_count": 72,
   "metadata": {},
   "outputs": [],
   "source": [
    "def OutputLCS(backtrack, v, i, j):\n",
    "    if i == 0 or j == 0:\n",
    "        return \"\"\n",
    "    if backtrack[i - 1][j - 1] == \"↓\":\n",
    "        return OutputLCS(backtrack, v, i - 1, j)\n",
    "    elif backtrack[i - 1][j - 1] == \"→\":\n",
    "        return OutputLCS(backtrack, v, i, j - 1)\n",
    "    else:\n",
    "        return OutputLCS(backtrack, v, i - 1, j - 1) + v[i - 1]"
   ]
  },
  {
   "cell_type": "code",
   "execution_count": 73,
   "metadata": {},
   "outputs": [
    {
     "name": "stdout",
     "output_type": "stream",
     "text": [
      "ATTTATTCCCACTGGGATCGCACGCAAATGCGGGGACAATGGCCTACCGCGATCATTATGGGTACTCCCCGCTCTGCCATATATAGATAGGTCTAAGGTGTTCGGGGAGGAGGACAACGCGGGTACTAATTGCTTGGGTCCCCGCCCTCACCCTCCAGCATTCAGACTAGCTCGTTTGAAATCAGATCGCCTCGCCTCATCGTAGATCGATATAGGGATCACAGTGGCAGATTGAACCATCGGACCGAGTGGCTTTCCCGTGATGTCTAATTCCTCAAGCGTTGCGCAATCTGGCCGTTGCGCAATACTCAGAATTACCGACCATTGTCTACATTGGACTACACTTGCTGTTGAGATTGGCAGTTGGGGGGGAAAATACTTCAGTGGTGATAAAAGTGCGGCACATTATTAGCATATAGAAAAAACGAACGGGTTCCCGTTCCCACGGCGCGTAATGGTAGACAACCAAACTCCACATTCTCATGCGAAGCTGTTAGCGGTAAGGTTAGGGGTAGTCCCGGCTGGACATCGCACCCT\n"
     ]
    }
   ],
   "source": [
    "with open('rosalind_ba5c.txt', 'r') as f:\n",
    "    v = f.readline().rstrip()\n",
    "    w = f.readline().rstrip()\n",
    "    backtrack = LCSBackTrack(v, w)\n",
    "    print(OutputLCS(backtrack, v, len(v), len(w)))"
   ]
  },
  {
   "cell_type": "code",
   "execution_count": null,
   "metadata": {},
   "outputs": [],
   "source": []
  }
 ],
 "metadata": {
  "kernelspec": {
   "display_name": "Python 3",
   "language": "python",
   "name": "python3"
  },
  "language_info": {
   "codemirror_mode": {
    "name": "ipython",
    "version": 3
   },
   "file_extension": ".py",
   "mimetype": "text/x-python",
   "name": "python",
   "nbconvert_exporter": "python",
   "pygments_lexer": "ipython3",
   "version": "3.7.0"
  }
 },
 "nbformat": 4,
 "nbformat_minor": 2
}
