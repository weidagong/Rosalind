{
 "cells": [
  {
   "cell_type": "markdown",
   "metadata": {},
   "source": [
    "# BA2G Implement GibbsSampler"
   ]
  },
  {
   "cell_type": "code",
   "execution_count": 4,
   "metadata": {
    "collapsed": true
   },
   "outputs": [],
   "source": [
    "import numpy as np\n",
    "import random\n",
    "\n",
    "def formProfile(seqs):\n",
    "    profiles = np.ones([4, len(seqs[0])])\n",
    "    number2base = {0 : 'A', 1 : 'C', 2 : 'G', 3 : 'T'}\n",
    "    for i in range(4):\n",
    "        for j in range(len(seqs[0])):\n",
    "            profiles[i, j] += float(sum([x[j] == number2base[i] for x in seqs]))\n",
    "            profiles[i, j] = profiles[i, j]/2/len(seqs)#different than BA2D, add 1 pseudocount\n",
    "    return(profiles)\n",
    "\n",
    "\n",
    "def scoreMotif(seqs):\n",
    "    score = 0\n",
    "    profile = formProfile(seqs)\n",
    "    number2base = {0 : 'A', 1 : 'C', 2 : 'G', 3 : 'T'}\n",
    "    for i in range(len(seqs[0])):\n",
    "        score += max(profile[:, i]) * len(seqs) * 2 - 1 #different than BA2D\n",
    "    return(score)\n",
    "\n",
    "def randomKmerfromProfile(seq, profile):\n",
    "    kmers = []\n",
    "    prob = []\n",
    "    base2number = {'A' : 0, 'C' : 1, 'G' : 2, 'T' : 3}\n",
    "    for i in range(len(seq) - profile.shape[1] + 1):\n",
    "        kmers.append(seq[i : i + profile.shape[1]])\n",
    "        prob.append(np.prod([profile[base2number[x], y] for x,y in zip(seq[i : i + profile.shape[1]], range(profile.shape[1]))]))\n",
    "    idx = random.choices(range(len(seq) - profile.shape[1] + 1), weights = prob)\n",
    "    return kmers[idx[0]]\n",
    "\n",
    "def GibbsSampler(dna, k, t, N):\n",
    "    idx = [random.choice(range(len(dna[0]) - k + 1)) for _ in range(t)]\n",
    "    motifs = [dna[i][idx[i] : idx[i] + k] for i in range(t)]\n",
    "    bestMotifs = motifs.copy()\n",
    "    scoreBestMotifs = scoreMotif(bestMotifs)\n",
    "    for j in range(N):\n",
    "        seqIdx = random.choice(range(t))\n",
    "        motifs.pop(seqIdx)\n",
    "        profile = formProfile(motifs)\n",
    "        motifs.insert(seqIdx, randomKmerfromProfile(dna[seqIdx], profile))\n",
    "        if scoreMotif(motifs) > scoreBestMotifs:\n",
    "            bestMotifs = motifs.copy()\n",
    "            scoreBestMotifs = scoreMotif(bestMotifs)\n",
    "    return bestMotifs, scoreBestMotifs\n",
    "\n",
    "def BA2G(filename):\n",
    "    with open(filename, 'r') as f:\n",
    "        k, t, N = list(map(int, f.readline().rstrip().split()))\n",
    "        dna = []\n",
    "        for line in f:\n",
    "            dna.append(line.rstrip())\n",
    "        allScores = []\n",
    "        allMotifs = []\n",
    "        for i in range(20):\n",
    "            motifs, scores = GibbsSampler(dna, k, t, N)\n",
    "            allScores.append(scores)\n",
    "            allMotifs.append(motifs)\n",
    "        bestMotifs = allMotifs[allScores.index(max(allScores))]\n",
    "        for i in bestMotifs:\n",
    "            print(i)\n",
    "        return bestMotifs"
   ]
  },
  {
   "cell_type": "markdown",
   "metadata": {},
   "source": [
    "## Test"
   ]
  },
  {
   "cell_type": "code",
   "execution_count": 11,
   "metadata": {},
   "outputs": [
    {
     "name": "stdout",
     "output_type": "stream",
     "text": [
      "TCTCGGGG\n",
      "CCAAGGTG\n",
      "TACAGGCG\n",
      "TTCAGGTG\n",
      "TCCACGTG\n"
     ]
    },
    {
     "data": {
      "text/plain": [
       "['TCTCGGGG', 'CCAAGGTG', 'TACAGGCG', 'TTCAGGTG', 'TCCACGTG']"
      ]
     },
     "execution_count": 11,
     "metadata": {},
     "output_type": "execute_result"
    }
   ],
   "source": [
    "BA2G('BA2G-test.txt')"
   ]
  },
  {
   "cell_type": "code",
   "execution_count": 103,
   "metadata": {},
   "outputs": [
    {
     "name": "stdout",
     "output_type": "stream",
     "text": [
      "['TCGGGGGT', 'CAAGGTGC', 'ACAGGCGT', 'TCAGGTGC', 'CCACGTGC']\n",
      "30.0\n"
     ]
    }
   ],
   "source": [
    "dna = ['CGCCCCTCTCGGGGGTGTTCAGTAAACGGCCA', 'GGGCGAGGTATGTGTAAGTGCCAAGGTGCCAG',\n",
    "       'TAGTACCGAGACCGAAAGAAGTATACAGGCGT', 'TAGATCAAGTTTCAGGTGCACGTCGGTGAACC', \n",
    "       'AATCCACCAGCTCCACGTGCAATGTTGGCCTA']\n",
    "k = 8\n",
    "t = 5\n",
    "N = 100\n",
    "testMotifs, testScore = GibbsSampler(dna, k, t, N)\n",
    "print(testMotifs)\n",
    "print(testScore)"
   ]
  },
  {
   "cell_type": "code",
   "execution_count": 110,
   "metadata": {},
   "outputs": [
    {
     "name": "stdout",
     "output_type": "stream",
     "text": [
      "Test is 31.0 and Ans is 31.0\n"
     ]
    }
   ],
   "source": [
    "test = scoreMotif(['AACGGCCA', 'AAGTGCCA', 'TAGTACCG', 'AAGTTTCA', 'ACGTGCAA'])\n",
    "ans = scoreMotif(['TCTCGGGG', 'CCAAGGTG', 'TACAGGCG', 'TTCAGGTG', 'TCCACGTG'])\n",
    "print('Test is %s and Ans is %s' % (test, ans))"
   ]
  },
  {
   "cell_type": "code",
   "execution_count": 71,
   "metadata": {},
   "outputs": [
    {
     "name": "stdout",
     "output_type": "stream",
     "text": [
      "[27.0, 28.0, 29.0, 30.0, 28.0, 31.0, 28.0, 30.0, 29.0, 30.0, 28.0, 29.0, 26.0, 31.0, 28.0, 30.0, 30.0, 29.0, 30.0, 29.0, 31.0, 31.0, 29.0, 29.0, 28.0, 30.0, 28.0, 29.0, 30.0, 29.0, 29.0, 29.0, 29.0, 30.0, 28.0, 30.0, 30.0, 30.0, 30.0, 30.0]\n",
      "TCTCGGGG\n",
      "TGTAAGTG\n",
      "TATACAGG\n",
      "TTCAGGTG\n",
      "TCCACGTG\n",
      "[27.0, 28.0, 29.0, 30.0, 28.0, 31.0, 28.0, 30.0, 29.0, 30.0, 28.0, 29.0, 26.0, 31.0, 28.0, 30.0, 30.0, 29.0, 30.0, 29.0, 31.0, 31.0, 29.0, 29.0, 28.0, 30.0, 28.0, 29.0, 30.0, 29.0, 29.0, 29.0, 29.0, 30.0, 28.0, 30.0, 30.0, 30.0, 30.0, 30.0]\n",
      "[['AAACGGCC', 'GGCGAGGT', 'CCGAAAGA', 'GGTGCACG', 'CACCAGCT'], ['CGGGGGTG', 'GCGAGGTA', 'TAGTACCG', 'GTGCACGT', 'CAGCTCCA'], ['CAGTAAAC', 'AGGTGCCA', 'AAGTATAC', 'AGGTGCAC', 'ATGTTGGC'], ['GGGGGTGT', 'CGAGGTAT', 'ACCGAAAG', 'GCACGTCG', 'TGTTGGCC'], ['GGGGTGTT', 'AGTGCCAA', 'AGTATACA', 'CGTCGGTG', 'TGTTGGCC'], ['TCTCGGGG', 'TGTAAGTG', 'TATACAGG', 'TTCAGGTG', 'TCCACGTG'], ['GTGTTCAG', 'AGGTGCCA', 'TAGTACCG', 'AGGTGCAC', 'ACGTGCAA'], ['GGGTGTTC', 'ATGTGTAA', 'TAGTACCG', 'CGGTGAAC', 'AGCTCCAC'], ['GCCCCTCT', 'GTGCCAAG', 'GACCGAAA', 'GTGCACGT', 'ATCCACCA'], ['GGGTGTTC', 'ATGTGTAA', 'CCGAGACC', 'AGGTGCAC', 'ACGTGCAA'], ['TAAACGGC', 'TGTAAGTG', 'AAGAAGTA', 'TGCACGTC', 'AGCTCCAC'], ['AGTAAACG', 'AAGGTGCC', 'AGTATACA', 'GGTGAACC', 'AATGTTGG'], ['CTCGGGGG', 'GGTATGTG', 'ATACAGGC', 'TTTCAGGT', 'ATGTTGGC'], ['AACGGCCA', 'AGGTGCCA', 'AAGAAGTA', 'AGGTGCAC', 'ACGTGCAA'], ['AACGGCCA', 'GGTGCCAG', 'ACCGAAAG', 'ACGTCGGT', 'AGCTCCAC'], ['GTGTTCAG', 'GTGCCAAG', 'GTATACAG', 'TAGATCAA', 'ATCCACCA'], ['AACGGCCA', 'AAGTGCCA', 'TACCGAGA', 'CAGGTGCA', 'CACGTGCA'], ['TTCAGTAA', 'GTAAGTGC', 'ACAGGCGT', 'TAGATCAA', 'AGCTCCAC'], ['GTGTTCAG', 'GTGCCAAG', 'GTACCGAG', 'GTTTCAGG', 'GTGCAATG'], ['CTCGGGGG', 'CCAAGGTG', 'CCGAGACC', 'TTCAGGTG', 'TCCACGTG'], ['TCTCGGGG', 'CCAAGGTG', 'AGAAGTAT', 'TTCAGGTG', 'TCCACGTG'], ['GGGGGTGT', 'GCCAAGGT', 'ATACAGGC', 'GTGCACGT', 'CTCCACGT'], ['AGTAAACG', 'TGTGTAAG', 'AGTATACA', 'GGTGCACG', 'AATGTTGG'], ['GTAAACGG', 'GTAAGTGC', 'ATACAGGC', 'ATCAAGTT', 'ATCCACCA'], ['TCGGGGGT', 'CAAGGTGC', 'TAGTACCG', 'CGGTGAAC', 'CCACGTGC'], ['AAACGGCC', 'AAGTGCCA', 'GAGACCGA', 'ACGTCGGT', 'ACGTGCAA'], ['GGGGGTGT', 'GCGAGGTA', 'AGAAGTAT', 'TCAAGTTT', 'GCAATGTT'], ['GGTGTTCA', 'AGGTATGT', 'AAGTATAC', 'AAGTTTCA', 'AATGTTGG'], ['CAGTAAAC', 'AAGTGCCA', 'AAGTATAC', 'AAGTTTCA', 'ATGTTGGC'], ['CTCGGGGG', 'TGTAAGTG', 'GTATACAG', 'TTCAGGTG', 'TCCACGTG'], ['AACGGCCA', 'AAGTGCCA', 'GACCGAAA', 'CAGGTGCA', 'CACGTGCA'], ['CCCTCTCG', 'ATGTGTAA', 'CCGAGACC', 'AGGTGCAC', 'CAATGTTG'], ['TTCAGTAA', 'TATGTGTA', 'AAGAAGTA', 'TGCACGTC', 'TCCACGTG'], ['AACGGCCA', 'AAGTGCCA', 'AGTACCGA', 'ACGTCGGT', 'ATCCACCA'], ['GTAAACGG', 'GTAAGTGC', 'TACCGAGA', 'GCACGTCG', 'TCCACGTG'], ['GTGTTCAG', 'AGGTGCCA', 'GTATACAG', 'AGGTGCAC', 'ACGTGCAA'], ['CTCGGGGG', 'TATGTGTA', 'AGTATACA', 'GTTTCAGG', 'AATCCACC'], ['GGTGTTCA', 'GGTGCCAG', 'AGTATACA', 'AGTTTCAG', 'AATGTTGG'], ['CAGTAAAC', 'GTGCCAAG', 'GTATACAG', 'GCACGTCG', 'GTGCAATG'], ['AACGGCCA', 'AGTGCCAA', 'AGACCGAA', 'TGCACGTC', 'ACGTGCAA']]\n"
     ]
    }
   ],
   "source": [
    "bestMotifs, allScores, allMotifs = BA2G('BA2G-test.txt')\n",
    "print(allScores)\n",
    "print(allMotifs)"
   ]
  },
  {
   "cell_type": "code",
   "execution_count": 12,
   "metadata": {},
   "outputs": [
    {
     "name": "stdout",
     "output_type": "stream",
     "text": [
      "ACGTCCACCGGCGTC\n",
      "AAGCGCACCGGGGTG\n",
      "ACCCTTACCGGGGTG\n",
      "AAGTTCCTCGGGGTG\n",
      "AAGTTTTATGGGGTG\n",
      "AAGTTTACCGGGTGC\n",
      "AAGTTTCGAGGGGTG\n",
      "CTGTTTACCGGGGTA\n",
      "AAGTTGCTCGGGGTG\n",
      "AAACATACCGGGGTG\n",
      "AAGTTTAGGAGGGTG\n",
      "AAGGAAACCGGGGTG\n",
      "AAGTTTACACAGGTG\n",
      "TAGTTTACCGGGGAT\n",
      "CCTTTTACCGGGGTG\n",
      "AAGTGAGCCGGGGTG\n",
      "AAGTCGTCCGGGGTG\n",
      "AAGTTTACCGGACAG\n",
      "AAGTTTACCAATGTG\n",
      "AAGTTTACCGTCATG\n"
     ]
    },
    {
     "data": {
      "text/plain": [
       "['ACGTCCACCGGCGTC',\n",
       " 'AAGCGCACCGGGGTG',\n",
       " 'ACCCTTACCGGGGTG',\n",
       " 'AAGTTCCTCGGGGTG',\n",
       " 'AAGTTTTATGGGGTG',\n",
       " 'AAGTTTACCGGGTGC',\n",
       " 'AAGTTTCGAGGGGTG',\n",
       " 'CTGTTTACCGGGGTA',\n",
       " 'AAGTTGCTCGGGGTG',\n",
       " 'AAACATACCGGGGTG',\n",
       " 'AAGTTTAGGAGGGTG',\n",
       " 'AAGGAAACCGGGGTG',\n",
       " 'AAGTTTACACAGGTG',\n",
       " 'TAGTTTACCGGGGAT',\n",
       " 'CCTTTTACCGGGGTG',\n",
       " 'AAGTGAGCCGGGGTG',\n",
       " 'AAGTCGTCCGGGGTG',\n",
       " 'AAGTTTACCGGACAG',\n",
       " 'AAGTTTACCAATGTG',\n",
       " 'AAGTTTACCGTCATG']"
      ]
     },
     "execution_count": 12,
     "metadata": {},
     "output_type": "execute_result"
    }
   ],
   "source": [
    "BA2G('BA2G-test2.txt')"
   ]
  },
  {
   "cell_type": "markdown",
   "metadata": {},
   "source": [
    "## Quiz"
   ]
  },
  {
   "cell_type": "code",
   "execution_count": 13,
   "metadata": {},
   "outputs": [
    {
     "name": "stdout",
     "output_type": "stream",
     "text": [
      "TGCCCGATCTCGTTG\n",
      "CGCTTCGTAGAGTTG\n",
      "CGCGCGGCCCAGTTG\n",
      "CGCGCCCGAGAGTTG\n",
      "CATACGGTAGAGTTG\n",
      "CGGTAGGTAGAGTTG\n",
      "CGCGCGGTAGTACTG\n",
      "ACCGCGGTAGAGTTC\n",
      "CGCGCGGTGACGTTG\n",
      "CGCGCGGTAGAGGGA\n",
      "CGCGAAATAGAGTTG\n",
      "CGCGTTCTAGAGTTG\n",
      "CGCGCGGTAAGCTTG\n",
      "CGCGCGGTAGAAAGG\n",
      "CGCGCGTGCGAGTTG\n",
      "CGCGCACGAGAGTTG\n",
      "GGCGCGGTAGAGTAC\n",
      "CGCGCGCATGAGTTG\n",
      "ATGGCGGTAGAGTTG\n",
      "CGCCAAGTAGAGTTG\n"
     ]
    },
    {
     "data": {
      "text/plain": [
       "['TGCCCGATCTCGTTG',\n",
       " 'CGCTTCGTAGAGTTG',\n",
       " 'CGCGCGGCCCAGTTG',\n",
       " 'CGCGCCCGAGAGTTG',\n",
       " 'CATACGGTAGAGTTG',\n",
       " 'CGGTAGGTAGAGTTG',\n",
       " 'CGCGCGGTAGTACTG',\n",
       " 'ACCGCGGTAGAGTTC',\n",
       " 'CGCGCGGTGACGTTG',\n",
       " 'CGCGCGGTAGAGGGA',\n",
       " 'CGCGAAATAGAGTTG',\n",
       " 'CGCGTTCTAGAGTTG',\n",
       " 'CGCGCGGTAAGCTTG',\n",
       " 'CGCGCGGTAGAAAGG',\n",
       " 'CGCGCGTGCGAGTTG',\n",
       " 'CGCGCACGAGAGTTG',\n",
       " 'GGCGCGGTAGAGTAC',\n",
       " 'CGCGCGCATGAGTTG',\n",
       " 'ATGGCGGTAGAGTTG',\n",
       " 'CGCCAAGTAGAGTTG']"
      ]
     },
     "execution_count": 13,
     "metadata": {},
     "output_type": "execute_result"
    }
   ],
   "source": [
    "BA2G('rosalind_ba2g.txt')"
   ]
  },
  {
   "cell_type": "code",
   "execution_count": null,
   "metadata": {
    "collapsed": true
   },
   "outputs": [],
   "source": []
  },
  {
   "cell_type": "code",
   "execution_count": null,
   "metadata": {
    "collapsed": true
   },
   "outputs": [],
   "source": []
  }
 ],
 "metadata": {
  "kernelspec": {
   "display_name": "Python 3",
   "language": "python",
   "name": "python3"
  },
  "language_info": {
   "codemirror_mode": {
    "name": "ipython",
    "version": 3
   },
   "file_extension": ".py",
   "mimetype": "text/x-python",
   "name": "python",
   "nbconvert_exporter": "python",
   "pygments_lexer": "ipython3",
   "version": "3.6.1"
  }
 },
 "nbformat": 4,
 "nbformat_minor": 2
}
