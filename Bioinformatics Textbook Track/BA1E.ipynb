{
 "cells": [
  {
   "cell_type": "markdown",
   "metadata": {},
   "source": [
    "# BA1E Find Patterns Forming Clumps in a String"
   ]
  },
  {
   "cell_type": "code",
   "execution_count": 17,
   "metadata": {
    "collapsed": true
   },
   "outputs": [],
   "source": [
    "def uniqueKmer(genome, k):\n",
    "    kmers = set(genome[start : start + k] for start in range(len(genome) - k))\n",
    "    return kmers\n",
    "\n",
    "def occur(genome, kmer):\n",
    "    count = start = 0\n",
    "    while True:\n",
    "        if genome.find(kmer,start) == -1:\n",
    "            break\n",
    "        else:\n",
    "            start = genome.find(kmer, start) + 1\n",
    "            count += 1\n",
    "    return(count)\n",
    "\n",
    "def BA1E(filename):\n",
    "    with open(filename, 'r') as f:\n",
    "        genome = f.readline().rstrip()\n",
    "        numbers = f.readline().rstrip()\n",
    "        k = int(numbers.split()[0])\n",
    "        interval = int(numbers.split()[1])\n",
    "        times = int(numbers.split()[2])\n",
    "        outputKmer = set()\n",
    "        for kmer in uniqueKmer(genome, k):\n",
    "            for i in range(len(genome) - interval):\n",
    "                if occur(genome[i : i+interval], kmer) >= times:\n",
    "                    outputKmer.add(kmer)\n",
    "        return(' '.join(outputKmer))\n",
    "                    \n"
   ]
  },
  {
   "cell_type": "markdown",
   "metadata": {},
   "source": [
    "## Test"
   ]
  },
  {
   "cell_type": "code",
   "execution_count": 18,
   "metadata": {},
   "outputs": [
    {
     "data": {
      "text/plain": [
       "'AATGT CGACA GAAGA'"
      ]
     },
     "execution_count": 18,
     "metadata": {},
     "output_type": "execute_result"
    }
   ],
   "source": [
    "BA1E('BA1E-test.txt')"
   ]
  },
  {
   "cell_type": "code",
   "execution_count": 19,
   "metadata": {},
   "outputs": [
    {
     "data": {
      "text/plain": [
       "'AAACCAGGTGG'"
      ]
     },
     "execution_count": 19,
     "metadata": {},
     "output_type": "execute_result"
    }
   ],
   "source": [
    "BA1E('BA1E-test2.txt')"
   ]
  },
  {
   "cell_type": "markdown",
   "metadata": {},
   "source": [
    "## Quiz"
   ]
  },
  {
   "cell_type": "code",
   "execution_count": 20,
   "metadata": {},
   "outputs": [
    {
     "data": {
      "text/plain": [
       "'TCCCCCTTA TAACCAGGA ACAATAGGT AGCCTTTTC CGCCAAATT TTAAGCCAT CGGGAATAG AAAAGGGCG CGTCAGCAC'"
      ]
     },
     "execution_count": 20,
     "metadata": {},
     "output_type": "execute_result"
    }
   ],
   "source": [
    "BA1E('rosalind_ba1e.txt')"
   ]
  }
 ],
 "metadata": {
  "kernelspec": {
   "display_name": "Python 3",
   "language": "python",
   "name": "python3"
  },
  "language_info": {
   "codemirror_mode": {
    "name": "ipython",
    "version": 3
   },
   "file_extension": ".py",
   "mimetype": "text/x-python",
   "name": "python",
   "nbconvert_exporter": "python",
   "pygments_lexer": "ipython3",
   "version": "3.6.1"
  }
 },
 "nbformat": 4,
 "nbformat_minor": 2
}
