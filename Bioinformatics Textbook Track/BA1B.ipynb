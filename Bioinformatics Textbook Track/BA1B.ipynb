{
 "cells": [
  {
   "cell_type": "markdown",
   "metadata": {},
   "source": [
    "# BA1B Find the Most Frequent Words in a String"
   ]
  },
  {
   "cell_type": "code",
   "execution_count": 17,
   "metadata": {
    "collapsed": true
   },
   "outputs": [],
   "source": [
    "def BA1B(filename):\n",
    "    with open(filename, 'r') as f:\n",
    "        string = f.readline().rstrip()\n",
    "        length = int(f.readline().rstrip())\n",
    "        count = {}\n",
    "        for i in range(len(string) - length):\n",
    "            count[string[i:i + length]] = count.get(string[i:i + length], 0) + 1\n",
    "        max_value = max(count.values())\n",
    "        print(max_value)\n",
    "        out = ' '.join([key for key, value in count.items() if value == max_value])\n",
    "        return out"
   ]
  },
  {
   "cell_type": "markdown",
   "metadata": {},
   "source": [
    "## Test"
   ]
  },
  {
   "cell_type": "code",
   "execution_count": 18,
   "metadata": {
    "scrolled": true
   },
   "outputs": [
    {
     "name": "stdout",
     "output_type": "stream",
     "text": [
      "3\n"
     ]
    },
    {
     "data": {
      "text/plain": [
       "'GGAGAAGCGAGA GCGTGGCGTGCG CGTGGCGTGCGG CGGCGGGAGATT GGCGGGAGATTC GCGTGGAGGCGT CGTGGAGGCGTG GCGTGCGGCGGG CGTGCGGCGGGA GTGCGGCGGGAG TGCGGCGGGAGA CGGGAGATTCAA GGGAGATTCAAG GGAGATTCAAGC'"
      ]
     },
     "execution_count": 18,
     "metadata": {},
     "output_type": "execute_result"
    }
   ],
   "source": [
    "BA1B('BA1B-test.txt')"
   ]
  },
  {
   "cell_type": "markdown",
   "metadata": {},
   "source": [
    "## Quiz"
   ]
  },
  {
   "cell_type": "code",
   "execution_count": 19,
   "metadata": {},
   "outputs": [
    {
     "name": "stdout",
     "output_type": "stream",
     "text": [
      "8\n"
     ]
    },
    {
     "data": {
      "text/plain": [
       "'ACTCAAATCCC CTCAAATCCCA TCAAATCCCAA CAAATCCCAAA AAATCCCAAAT AATCCCAAATG ATCCCAAATGT CCAAATGTACT CAAATGTACTC AAATGTACTCA AATGTACTCAA ATGTACTCAAA TGTACTCAAAT GTACTCAAATC ACTCAAATCAC CTCAAATCACT TCAAATCACTC CAAATCACTCA AAATCACTCAA AATCACTCAAA ATCACTCAAAT TCACTCAAATC'"
      ]
     },
     "execution_count": 19,
     "metadata": {},
     "output_type": "execute_result"
    }
   ],
   "source": [
    "BA1B('rosalind_ba1b.txt')"
   ]
  }
 ],
 "metadata": {
  "kernelspec": {
   "display_name": "Python 3",
   "language": "python",
   "name": "python3"
  },
  "language_info": {
   "codemirror_mode": {
    "name": "ipython",
    "version": 3
   },
   "file_extension": ".py",
   "mimetype": "text/x-python",
   "name": "python",
   "nbconvert_exporter": "python",
   "pygments_lexer": "ipython3",
   "version": "3.6.1"
  }
 },
 "nbformat": 4,
 "nbformat_minor": 2
}
