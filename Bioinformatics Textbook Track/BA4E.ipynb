{
 "cells": [
  {
   "cell_type": "markdown",
   "metadata": {},
   "source": [
    "# BA4E\n",
    "Find a Cyclic Peptide with Theoretical Spectrum Matching an Ideal Spectrum"
   ]
  },
  {
   "cell_type": "code",
   "execution_count": 1,
   "metadata": {},
   "outputs": [],
   "source": [
    "with open('integer_mass_table.txt', 'r') as f:\n",
    "    massTable = {}\n",
    "    for line in f:\n",
    "        k, v = line.rstrip().split()\n",
    "        v = int(v)\n",
    "        massTable[k] = v\n",
    "\n",
    "def CyclicSpectrum(peptide, massTable):\n",
    "    prefixMass = [0]\n",
    "    for i in range(1, len(peptide) + 1):\n",
    "        prefixMass.append(prefixMass[i-1] + massTable[peptide[i-1]])\n",
    "    totalMass = prefixMass[-1]\n",
    "    spectrum = [0]\n",
    "    for i in range(len(peptide)):\n",
    "        for j in range(i+1, len(peptide) + 1):\n",
    "            spectrum.append(prefixMass[j] - prefixMass[i])\n",
    "            if i > 0 and j < len(peptide):\n",
    "                spectrum.append(totalMass - (prefixMass[j] - prefixMass[i]))\n",
    "    spectrum.sort()\n",
    "    return spectrum\n",
    "\n",
    "def LinearSpectrum(peptide, massTable):\n",
    "    prefixMass = [0]\n",
    "    for i in range(1, len(peptide) + 1):\n",
    "        prefixMass.append(prefixMass[i-1] + massTable[peptide[i-1]])\n",
    "    totalMass = prefixMass[-1]\n",
    "    spectrum = [0]\n",
    "    for i in range(len(peptide)):\n",
    "        for j in range(i+1, len(peptide) + 1):\n",
    "            spectrum.append(prefixMass[j] - prefixMass[i])\n",
    "    spectrum.sort()\n",
    "    return spectrum"
   ]
  },
  {
   "cell_type": "code",
   "execution_count": 2,
   "metadata": {},
   "outputs": [],
   "source": [
    "def consistSpec(candidate, spectrum):\n",
    "    res = True\n",
    "    for i in range(len(candidate)):\n",
    "        if candidate[i] not in spectrum:\n",
    "            return False\n",
    "    return res\n",
    "\n",
    "def cycloPeptideSequencing(spectrum, massTable):\n",
    "    allaa = massTable.keys()\n",
    "    candidatePep = set(allaa)\n",
    "    finalPep = set()\n",
    "    while len(candidatePep):\n",
    "        newCandidate = set()\n",
    "        for pep in candidatePep:\n",
    "            for nxt in allaa:\n",
    "                newCandidate.add(pep + nxt)\n",
    "        candidatePep = newCandidate\n",
    "        tempCandidate = list(candidatePep)\n",
    "        for pep in tempCandidate:\n",
    "            pepSpecLinear = LinearSpectrum(pep, massTable)\n",
    "            pepSpecCirc = CyclicSpectrum(pep, massTable)\n",
    "            pepMass = sum([massTable[k] for k in pep])\n",
    "            if pepMass == spectrum[-1]:\n",
    "                if pepSpecCirc == spectrum:\n",
    "                    finalPep.add(pep)\n",
    "                candidatePep.remove(pep)\n",
    "            elif not consistSpec(pepSpecLinear, spectrum):\n",
    "                candidatePep.remove(pep)\n",
    "    return finalPep"
   ]
  },
  {
   "cell_type": "code",
   "execution_count": 3,
   "metadata": {},
   "outputs": [
    {
     "name": "stdout",
     "output_type": "stream",
     "text": [
      "186-137-131-113-99-163-87-128-186-137-97 97-137-186-128-87-163-99-113-131-137-186 97-186-137-131-113-99-163-87-128-186-137 113-131-137-186-97-137-186-128-87-163-99 137-186-97-137-186-128-87-163-99-113-131 131-113-99-163-87-128-186-137-97-186-137 137-97-186-137-131-113-99-163-87-128-186 87-128-186-137-97-186-137-131-113-99-163 113-99-163-87-128-186-137-97-186-137-131 137-131-113-99-163-87-128-186-137-97-186 87-163-99-113-131-137-186-97-137-186-128 128-186-137-97-186-137-131-113-99-163-87 99-113-131-137-186-97-137-186-128-87-163 131-137-186-97-137-186-128-87-163-99-113 128-87-163-99-113-131-137-186-97-137-186 186-97-137-186-128-87-163-99-113-131-137 99-163-87-128-186-137-97-186-137-131-113 163-99-113-131-137-186-97-137-186-128-87 163-87-128-186-137-97-186-137-131-113-99 186-128-87-163-99-113-131-137-186-97-137 186-137-97-186-137-131-113-99-163-87-128 137-186-128-87-163-99-113-131-137-186-97\n"
     ]
    }
   ],
   "source": [
    "with open('rosalind_ba4e.txt', 'r') as f:\n",
    "    spectrum = f.readline().rstrip().split()\n",
    "    spectrum = [int(k) for k in spectrum]\n",
    "    seq = list(cycloPeptideSequencing(spectrum, massTable))\n",
    "    output = set()\n",
    "    for i in range(len(seq)):\n",
    "        output.add('-'.join([str(massTable[k]) for k in seq[i]]))\n",
    "    print(' '.join(list(output)))"
   ]
  }
 ],
 "metadata": {
  "kernelspec": {
   "display_name": "Python 3",
   "language": "python",
   "name": "python3"
  },
  "language_info": {
   "codemirror_mode": {
    "name": "ipython",
    "version": 3
   },
   "file_extension": ".py",
   "mimetype": "text/x-python",
   "name": "python",
   "nbconvert_exporter": "python",
   "pygments_lexer": "ipython3",
   "version": "3.7.0"
  }
 },
 "nbformat": 4,
 "nbformat_minor": 2
}
