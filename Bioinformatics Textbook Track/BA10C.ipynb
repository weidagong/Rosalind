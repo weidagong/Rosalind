{
 "cells": [
  {
   "cell_type": "markdown",
   "metadata": {},
   "source": [
    "# BA10C Implement the Viterbi Algorithm"
   ]
  },
  {
   "cell_type": "code",
   "execution_count": 9,
   "metadata": {
    "collapsed": true
   },
   "outputs": [],
   "source": [
    "def BA10C(filename):\n",
    "    i = 1\n",
    "    transition = {}\n",
    "    emission = {}\n",
    "    with open(filename, 'r') as f:\n",
    "        for line in f:\n",
    "            if i == 1:\n",
    "                string = line.rstrip()\n",
    "            if i == 5:\n",
    "                states = line.rstrip().split()\n",
    "            if i == 8:\n",
    "                transition['AA'] = float(line.rstrip().split()[1])\n",
    "                transition['AB'] = float(line.rstrip().split()[2])\n",
    "            if i == 9:\n",
    "                transition['BA'] = float(line.rstrip().split()[1])\n",
    "                transition['BB'] = float(line.rstrip().split()[2])\n",
    "            if i == 12:\n",
    "                emission['Ax'] = float(line.rstrip().split()[1])\n",
    "                emission['Ay'] = float(line.rstrip().split()[2])\n",
    "                emission['Az'] = float(line.rstrip().split()[3])\n",
    "            if i == 13:\n",
    "                emission['Bx'] = float(line.rstrip().split()[1])\n",
    "                emission['By'] = float(line.rstrip().split()[2])\n",
    "                emission['Bz'] = float(line.rstrip().split()[3])\n",
    "            i += 1\n",
    "    pA = [0] * len(string)\n",
    "    pB = [0] * len(string)\n",
    "    for i in range(len(string)):\n",
    "        if i == 0:\n",
    "            pA[i] = emission['A' + string[i]]\n",
    "            pB[i] = emission['B' + string[i]]\n",
    "        else:\n",
    "            pA[i] = emission['A' + string[i]] * max(pA[i - 1] * transition['AA'], pB[i - 1] * transition['BA'])\n",
    "            pB[i] = emission['B' + string[i]] * max(pA[i - 1] * transition['AB'], pB[i - 1] * transition['BB'])\n",
    "    prob = [0] * len(string)\n",
    "    prob[len(string) - 1] = max(pA[len(string) - 1], pB[len(string) - 1])\n",
    "    path= ['n'] * len(string)\n",
    "    for i in range(len(string) - 1, -1, -1):\n",
    "        if i == len(string) - 1:\n",
    "            if prob[i] == pA[i]:\n",
    "                path[i] = 'A'\n",
    "            else:\n",
    "                path[i] = 'B'\n",
    "        else:\n",
    "            if pA[i] * transition['A' + path[i + 1]] * emission[path[i + 1] + string[i + 1]] == prob[i + 1]:\n",
    "                path[i] = 'A'\n",
    "                prob[i] = pA[i]\n",
    "            else:\n",
    "                path[i] = 'B'\n",
    "                prob[i] = pB[i]\n",
    "    path = ''.join(path)\n",
    "    return(path)     "
   ]
  },
  {
   "cell_type": "markdown",
   "metadata": {},
   "source": [
    "## Test 1"
   ]
  },
  {
   "cell_type": "code",
   "execution_count": 10,
   "metadata": {},
   "outputs": [
    {
     "data": {
      "text/plain": [
       "'AAABBAAAAA'"
      ]
     },
     "execution_count": 10,
     "metadata": {},
     "output_type": "execute_result"
    }
   ],
   "source": [
    "BA10C('BA10C-test.txt')"
   ]
  },
  {
   "cell_type": "markdown",
   "metadata": {},
   "source": [
    "## Test 2"
   ]
  },
  {
   "cell_type": "code",
   "execution_count": 12,
   "metadata": {},
   "outputs": [
    {
     "data": {
      "text/plain": [
       "True"
      ]
     },
     "execution_count": 12,
     "metadata": {},
     "output_type": "execute_result"
    }
   ],
   "source": [
    "BA10C('BA10C-test2.txt') == 'AAAAAAAAAAAAAABBBBBBBBBBBAAAAAAAAAAAAAAAAAAAAAAAAAAAAAABBBBBBBBBBBAAAAAAAAAAAAAAAAAAAAABBBBBBBBBBAAA'"
   ]
  },
  {
   "cell_type": "markdown",
   "metadata": {},
   "source": [
    "## Quiz"
   ]
  },
  {
   "cell_type": "code",
   "execution_count": 14,
   "metadata": {},
   "outputs": [
    {
     "data": {
      "text/plain": [
       "'AAAAAAAAABAABAABBAAABBAAAAAAABABBBABBABAAAAAABAAABAAAAABBAABAAABAAABBBBBABAABAAAAAAABAAAABAAABAAAAAA'"
      ]
     },
     "execution_count": 14,
     "metadata": {},
     "output_type": "execute_result"
    }
   ],
   "source": [
    "BA10C('rosalind_ba10c (2).txt')"
   ]
  }
 ],
 "metadata": {
  "kernelspec": {
   "display_name": "Python 3",
   "language": "python",
   "name": "python3"
  },
  "language_info": {
   "codemirror_mode": {
    "name": "ipython",
    "version": 3
   },
   "file_extension": ".py",
   "mimetype": "text/x-python",
   "name": "python",
   "nbconvert_exporter": "python",
   "pygments_lexer": "ipython3",
   "version": "3.6.1"
  }
 },
 "nbformat": 4,
 "nbformat_minor": 2
}
