{
 "cells": [
  {
   "cell_type": "markdown",
   "metadata": {},
   "source": [
    "# BA2H Implement DistanceBetweenPatternAndStrings "
   ]
  },
  {
   "cell_type": "code",
   "execution_count": 5,
   "metadata": {},
   "outputs": [],
   "source": [
    "def hammingDist(genome, kmer):\n",
    "    dist = []\n",
    "    for i in range(len(genome) - len(kmer) + 1):\n",
    "        dist.append(sum(x != y for x,y in zip(genome[i : i + len(kmer)], kmer)))\n",
    "    return(min(dist))\n",
    "\n",
    "def DistanceBetweenPatternAndStrings(pattern, dna):\n",
    "    distance = 0\n",
    "    for seq in dna:\n",
    "        tempDist = [hammingDist(pattern, seq[i : i + len(pattern)]) for i in range(len(seq) - len(pattern) + 1)]\n",
    "        minTempDist = min(tempDist)\n",
    "        distance += minTempDist\n",
    "    return(distance)\n",
    "\n",
    "def BA2H(filename):\n",
    "    with open(filename, 'r') as f:\n",
    "        pattern = f.readline().rstrip()\n",
    "        dna = f.readline().rstrip().split()\n",
    "        return(DistanceBetweenPatternAndStrings(pattern, dna))"
   ]
  },
  {
   "cell_type": "markdown",
   "metadata": {},
   "source": [
    "## Test"
   ]
  },
  {
   "cell_type": "code",
   "execution_count": 2,
   "metadata": {},
   "outputs": [
    {
     "data": {
      "text/plain": [
       "5"
      ]
     },
     "execution_count": 2,
     "metadata": {},
     "output_type": "execute_result"
    }
   ],
   "source": [
    "pattern = 'AAA'\n",
    "dna = ['TTACCTTAAC', 'GATATCTGTC', 'ACGGCGTTCG', 'CCCTAAAGAG', 'CGTCAGAGGT']\n",
    "DistanceBetweenPatternAndStrings(pattern, dna)"
   ]
  },
  {
   "cell_type": "code",
   "execution_count": 6,
   "metadata": {},
   "outputs": [
    {
     "data": {
      "text/plain": [
       "76"
      ]
     },
     "execution_count": 6,
     "metadata": {},
     "output_type": "execute_result"
    }
   ],
   "source": [
    "BA2H('BA2H-test.txt')"
   ]
  },
  {
   "cell_type": "markdown",
   "metadata": {},
   "source": [
    "## Quiz"
   ]
  },
  {
   "cell_type": "code",
   "execution_count": 7,
   "metadata": {},
   "outputs": [
    {
     "data": {
      "text/plain": [
       "53"
      ]
     },
     "execution_count": 7,
     "metadata": {},
     "output_type": "execute_result"
    }
   ],
   "source": [
    "BA2H('rosalind_ba2h.txt')"
   ]
  }
 ],
 "metadata": {
  "kernelspec": {
   "display_name": "Python 3",
   "language": "python",
   "name": "python3"
  },
  "language_info": {
   "codemirror_mode": {
    "name": "ipython",
    "version": 3
   },
   "file_extension": ".py",
   "mimetype": "text/x-python",
   "name": "python",
   "nbconvert_exporter": "python",
   "pygments_lexer": "ipython3",
   "version": "3.7.0"
  }
 },
 "nbformat": 4,
 "nbformat_minor": 2
}
