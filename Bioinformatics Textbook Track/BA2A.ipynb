{
 "cells": [
  {
   "cell_type": "markdown",
   "metadata": {},
   "source": [
    "# BA2A Implement MotifEnumeration"
   ]
  },
  {
   "cell_type": "code",
   "execution_count": 47,
   "metadata": {
    "collapsed": true
   },
   "outputs": [],
   "source": [
    "from itertools import product\n",
    "from collections import defaultdict\n",
    "\n",
    "def allKmer(k):\n",
    "    kmers = [''.join(i) for i in product('AGCT', repeat = k)]\n",
    "    return kmers\n",
    "\n",
    "def distance(a, b):\n",
    "    return sum([x != y for x,y in zip(a,b)])\n",
    "\n",
    "def partialMatch(genome, motif, d):\n",
    "    for i in range(len(genome) - len(motif) + 1):\n",
    "        if distance(genome[i:i + len(motif)], motif) <= d:\n",
    "            return True\n",
    "    return False\n",
    "\n",
    "def BA2A(filename):\n",
    "    with open(filename, 'r') as f:\n",
    "        numbers = f.readline().rstrip()\n",
    "        k = int(numbers.split()[0])\n",
    "        d = int(numbers.split()[1])\n",
    "        dna = []\n",
    "        motif = set()\n",
    "        for line in f:\n",
    "            dna.append(line.rstrip())\n",
    "        allKmers = allKmer(k)\n",
    "        for kmer in allKmers:\n",
    "            motifMatch = True\n",
    "            for seq in dna:\n",
    "                if not partialMatch(seq, kmer, d):\n",
    "                    motifMatch = False\n",
    "                    break\n",
    "            if motifMatch == True:\n",
    "                motif.add(kmer)\n",
    "        return(' '.join(motif))\n",
    "            \n",
    "        "
   ]
  },
  {
   "cell_type": "markdown",
   "metadata": {},
   "source": [
    "## Test"
   ]
  },
  {
   "cell_type": "code",
   "execution_count": 48,
   "metadata": {},
   "outputs": [
    {
     "data": {
      "text/plain": [
       "'TTT GTT ATA ATT'"
      ]
     },
     "execution_count": 48,
     "metadata": {},
     "output_type": "execute_result"
    }
   ],
   "source": [
    "BA2A('BA2A-test.txt')"
   ]
  },
  {
   "cell_type": "markdown",
   "metadata": {},
   "source": [
    "## Quiz"
   ]
  },
  {
   "cell_type": "code",
   "execution_count": 53,
   "metadata": {},
   "outputs": [
    {
     "data": {
      "text/plain": [
       "'AATAA AAAAA AAGAA GAATA AACAA'"
      ]
     },
     "execution_count": 53,
     "metadata": {},
     "output_type": "execute_result"
    }
   ],
   "source": [
    "BA2A('rosalind_ba2a.txt')"
   ]
  }
 ],
 "metadata": {
  "kernelspec": {
   "display_name": "Python 3",
   "language": "python",
   "name": "python3"
  },
  "language_info": {
   "codemirror_mode": {
    "name": "ipython",
    "version": 3
   },
   "file_extension": ".py",
   "mimetype": "text/x-python",
   "name": "python",
   "nbconvert_exporter": "python",
   "pygments_lexer": "ipython3",
   "version": "3.7.0"
  }
 },
 "nbformat": 4,
 "nbformat_minor": 2
}
