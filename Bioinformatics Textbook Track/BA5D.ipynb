{
 "cells": [
  {
   "cell_type": "markdown",
   "metadata": {},
   "source": [
    "# BA5D \n",
    "Find the Longest Path in a DAG"
   ]
  },
  {
   "cell_type": "code",
   "execution_count": 2,
   "metadata": {},
   "outputs": [],
   "source": [
    "def inNode(graph, n):\n",
    "    res = []\n",
    "    for v in graph.keys():\n",
    "        if n in graph[v]:\n",
    "            res.append(v)\n",
    "    return res\n",
    "\n",
    "\n",
    "def getScore(node, pred, DAG):\n",
    "    score = 0\n",
    "    for pair in DAG[pred]:\n",
    "        v, e = [int(x) for x in pair.split(':')]\n",
    "        if v == node:\n",
    "            return e\n",
    "\n",
    "def LPathDAG(start, end, DAG):\n",
    "    score = {}\n",
    "    path = {}\n",
    "    simpleDAG = {}\n",
    "    for k,v in DAG.items():\n",
    "        if k not in simpleDAG.keys():\n",
    "                simpleDAG[k] = []\n",
    "        for pair in v:\n",
    "            if len(pair) == 0:\n",
    "                break\n",
    "            node = pair.split(\":\")[0]\n",
    "            if int(node) not in simpleDAG.keys():\n",
    "                simpleDAG[int(node)] = []\n",
    "            simpleDAG[k].append(int(node))\n",
    "    allNodes = sorted(list(simpleDAG.keys())) #Make sure it is sorted\n",
    "    for node in allNodes:\n",
    "        if node == start:\n",
    "            score[node] = 0\n",
    "            path[node] = str(start)\n",
    "        else:\n",
    "            nodeScore = 0\n",
    "            nodePath = ''\n",
    "            for pred in inNode(simpleDAG, node):\n",
    "                thisScore = score[pred] + getScore(node, pred, DAG)\n",
    "                if thisScore > nodeScore and str(start) in path[pred]:\n",
    "                    nodeScore = thisScore\n",
    "                    nodePath = path[pred] + ',' + str(node)\n",
    "            score[node] = nodeScore\n",
    "            path[node] = nodePath\n",
    "    return score[end], path[end] "
   ]
  },
  {
   "cell_type": "code",
   "execution_count": 3,
   "metadata": {},
   "outputs": [
    {
     "name": "stdout",
     "output_type": "stream",
     "text": [
      "114\n",
      "6->9->10->15->20->21->25\n"
     ]
    }
   ],
   "source": [
    "with open('rosalind_ba5d.txt', 'r') as f:\n",
    "    start = int(f.readline().rstrip())\n",
    "    end = int(f.readline().rstrip())\n",
    "    DAG = {}\n",
    "    for line in f:\n",
    "        k, v = line.rstrip().split('->')\n",
    "        if int(k) not in DAG.keys():\n",
    "            DAG[int(k)] = []\n",
    "        DAG[int(k)].append(v)\n",
    "    score, path = LPathDAG(start, end, DAG)\n",
    "    path = path.split(',')\n",
    "    print(score)\n",
    "    print('->'.join(path))"
   ]
  }
 ],
 "metadata": {
  "kernelspec": {
   "display_name": "Python 3",
   "language": "python",
   "name": "python3"
  },
  "language_info": {
   "codemirror_mode": {
    "name": "ipython",
    "version": 3
   },
   "file_extension": ".py",
   "mimetype": "text/x-python",
   "name": "python",
   "nbconvert_exporter": "python",
   "pygments_lexer": "ipython3",
   "version": "3.7.0"
  }
 },
 "nbformat": 4,
 "nbformat_minor": 2
}
