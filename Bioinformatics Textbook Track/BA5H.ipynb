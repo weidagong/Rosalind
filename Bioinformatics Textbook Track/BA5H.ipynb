{
 "cells": [
  {
   "cell_type": "markdown",
   "metadata": {},
   "source": [
    "# BA5H Find a Highest-Scoring Fitting Alignment of Two Strings"
   ]
  },
  {
   "cell_type": "code",
   "execution_count": 1,
   "metadata": {
    "collapsed": true
   },
   "outputs": [],
   "source": [
    "import numpy as np\n",
    "\n",
    "\n",
    "def FittingAlignment(v, w):\n",
    "    score = np.zeros([len(v) + 1, len(w) + 1])\n",
    "    backtrack = [[] for _ in range(len(v) + 1)]\n",
    "    backtrack[0].append('-')\n",
    "    for i in range(1, len(v) + 1):\n",
    "        score[i, 0] = 0\n",
    "        backtrack[i].append('-')\n",
    "    for j in range(1, len(w) + 1):\n",
    "        score[0, j] = score[0, j - 1] - 1\n",
    "        backtrack[0].append('→')\n",
    "    for i in range(1, len(v) + 1):\n",
    "        for j in range(1, len(w) + 1):\n",
    "            if v[i - 1] == w[j-1]:\n",
    "                diag = score[i-1, j-1] + 1\n",
    "            else:\n",
    "                diag = score[i-1, j-1] -1\n",
    "            horizontal = score[i, j - 1] - 1\n",
    "            vertical = score[i - 1, j] - 1\n",
    "            score[i, j] = max(diag, horizontal, vertical)\n",
    "            if score[i, j] == score[i - 1,j] - 1:\n",
    "                backtrack[i].append(\"↓\")\n",
    "            elif score[i, j] == score[i, j - 1] - 1:\n",
    "                backtrack[i].append(\"→\")\n",
    "            elif score[i, j] == diag:\n",
    "                backtrack[i].append(\"↘\")\n",
    "    maxScore = np.amax(score[:, len(w)])\n",
    "    coordinates = np.where(score[:, len(w)] == maxScore)\n",
    "    x = coordinates[0][0]\n",
    "    y = len(w)\n",
    "    return maxScore, score, backtrack, x, y"
   ]
  },
  {
   "cell_type": "code",
   "execution_count": 2,
   "metadata": {
    "collapsed": true
   },
   "outputs": [],
   "source": [
    "def IterOutputFitting(backtrack, v, w, i, j):\n",
    "    first = ''\n",
    "    second = ''\n",
    "    while j > 0:\n",
    "        if backtrack[i][j] == \"↓\":\n",
    "            first += v[i -1]\n",
    "            second += '-'\n",
    "            i = i - 1\n",
    "        elif backtrack[i][j] == \"→\":\n",
    "            first += '-'\n",
    "            second += w[j - 1]\n",
    "            j = j - 1\n",
    "        elif backtrack[i][j] == \"↘\":\n",
    "            first += v[i - 1]\n",
    "            second += w[j - 1]\n",
    "            i = i - 1\n",
    "            j = j - 1\n",
    "        \n",
    "    first = first[::-1]\n",
    "    second = second[::-1]\n",
    "    return first, second"
   ]
  },
  {
   "cell_type": "code",
   "execution_count": 3,
   "metadata": {},
   "outputs": [
    {
     "name": "stdout",
     "output_type": "stream",
     "text": [
      "136.0\n",
      "ATATTCTGATGTGCGGCTAA-CTGTAGTCGAGCTGTTGACAGACACGAAAAACTACTATCT-ATT-GCCCACATTAGGAAACACCC-CAGCAAG-TGCAA-TACAAGCTGTCATCTTATAGTGTTTTT--A-ATCAT-CGCACTCTGAT-GTGCACTGTAAGTGCATTTACGCACCA-TA-ACTTTTCCTCGTCTCCTAGCCTCATTGCCGGTCTGTATCGTACCCAACG-CACA--CACGAGA-CAC-CG-TGC-ACAT-TACCA-GCC-TAGTG--T---AATTACGCT-TGAATTAGGTGAAA-GAGTGAGG--GTCCTCGGGCACAATTC-CTA-GCTTTAAT---AAGCTT-CT-CGGTTTCATACTTCACAAGT-CTTTCTA-GATGTCGCTCGCTAAATGTCGATCAA-CAGCCTC-TCACCCGCACCATACGT-CCGATCTAAATA-AGCAAGTGCTGGCGGGCG-GTT-GTGCCCT-GATACAGAGCAGAT-TCTG--CAGAC-TTCAGTCAGATGC-TAAATCTTAAGA-TGG-AG-TCA-TCCAAA--AACTCACCAAGTAGCAGCA-CGAGGTGGATAGCGATGCTAGGTCTGACACTACAC-TA-CGGCGTT--TGTCAACCCTACAG-GTTAAG-ACTTTG-AGA--CCAG---GA-AA-G--CTGTAACTATAGGTAGATCG-ACCTCGCAT-TT-AA-CATCCAGCATACTAACTTTTA-TTC--GG-AGAAACTGC--GAACGCTCACCTGG-CT-CGAGGGG-CTT-GATGCCCAACGTCTTTTCTTTAACACTTCCGAAGTTACATTCGCCGTGTAGTGGTAACTAGCAT-C-TGTAAA-TCTCGAC--GATAG-TA----AG-T-CGTTCA-GGCA----GGTAA-TTAGAT-CAGCT-CGGAAAGCGGTGATT-TCAC--CTGCAGAGTGAGC-ACCGACAA-T--GC--GCAATGG-A--ATG-CATTCTGCCACT---AGCCGATCG--GCTATGAAT-AA-TCT\n",
      "AGA--C-GAA-T-CGGTTAATCTGC-GTC---CTCTT--CAG-CGCGACAAACT--TATCGGATAAGC--ATA--AG-AGAC-CGAAC-GCATGGTGCAAGTGCCA-C---CATCG-AGAGTGCTTGCGGACA-CAGACGGAC-C-GACCG-GC-C-G-A----CAA--AC-C-CTAATAGAGATATCC-CAA-T--TA-CGTCCTTA--GG-C-G-A-CGT-C--AA-GTC-CAGTCATTACATCTCTCGATGCGACAGATGCCAAGCCATAGGGCATGCCAAC-ACGGTAT-AAT--G-TCATACGACTCAGCCCGTCTTCC--CACACGTCACTAAGATATATTTGGAACCTCGCCGCGG---CAT-CATC----GTGCGTTATACG--G-CGA-CGC-ACAC-TC--T-AATCGG--TCGTAACCCGCATCATT-GTTCCC-TCTA--TAGAGCCC-TCCTTGCG--CGAGTCCGTACCCTTGAC-C-G-GCAGGCGTCCGGTCCGACATTCTCTCACTTACATAA-TC--AAGTGTGGTAGGTCGGTCGTAAGTAA-TCTTGATG-AG-A-CTTCGAGC---ATGGC-AT-CTC---CTGACCCCACAGGTGGCGGAGTTACTG-C--CCCTACAATGTT--GCACTCGGCAGCTGCCTTCTTGACAAAGTACTGTAAC-ATACCT-G-T-GTAC-TA-CATATTGAAGC--CCACCGTGG-A--TTT-AGTTCTTGGGAGTCA-TGCTTGC-C-CTGTG-TGGACTACGCGTGCACTGCGATTCC-ATC--CTAT-CT--AACACT-C-G---T-A--T-C-CCGC--AGCGGGCA--AGCATGCCT-TAGAGTC-CGACACGATAGCTCTCTGAGGTGCG--CAAGGCCTCCCGG-ACCTTA-ATGCAA-TGCGCAAATCTG-GACCGTAACAACTGCA-AGTG-GCGATTGAGAACTACGCAAGCAATTGTATTATGTCGTT-T-CCATTGGCAGCCT-TCGCAGCAAA-AAGCAACTCT\n"
     ]
    }
   ],
   "source": [
    "with open('rosalind_ba5h.txt', 'r') as f:\n",
    "    v = f.readline().rstrip()\n",
    "    w = f.readline().rstrip()\n",
    "    maxScore, score, backtrack,x,y = FittingAlignment(v, w)\n",
    "    print(maxScore)\n",
    "    first, second = IterOutputFitting(backtrack, v, w, x, y)\n",
    "    print(first)\n",
    "    print(second)"
   ]
  },
  {
   "cell_type": "code",
   "execution_count": null,
   "metadata": {
    "collapsed": true
   },
   "outputs": [],
   "source": []
  },
  {
   "cell_type": "code",
   "execution_count": null,
   "metadata": {
    "collapsed": true
   },
   "outputs": [],
   "source": []
  }
 ],
 "metadata": {
  "kernelspec": {
   "display_name": "Python 3",
   "language": "python",
   "name": "python3"
  },
  "language_info": {
   "codemirror_mode": {
    "name": "ipython",
    "version": 3
   },
   "file_extension": ".py",
   "mimetype": "text/x-python",
   "name": "python",
   "nbconvert_exporter": "python",
   "pygments_lexer": "ipython3",
   "version": "3.6.1"
  }
 },
 "nbformat": 4,
 "nbformat_minor": 2
}
