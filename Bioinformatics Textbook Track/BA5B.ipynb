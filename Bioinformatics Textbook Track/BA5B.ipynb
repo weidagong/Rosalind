{
 "cells": [
  {
   "cell_type": "markdown",
   "metadata": {},
   "source": [
    "# BA5B  \n",
    "Finding the length of a longest path in the Manhattan Tourist Problem"
   ]
  },
  {
   "cell_type": "code",
   "execution_count": 1,
   "metadata": {},
   "outputs": [],
   "source": [
    "import numpy as np\n",
    "\n",
    "\n",
    "def ManhattanTourist(n, m, Down, Right):\n",
    "    score = np.zeros([n + 1, m + 1])\n",
    "    for i in range(1, n + 1):\n",
    "        score[i, 0] = score[i - 1, 0] + Down[i - 1, 0]\n",
    "    for j in range(1, m + 1):\n",
    "        score[0, j] = score[0, j - 1] + Right[0, j - 1]\n",
    "    for i in range(1, n + 1):\n",
    "        for j in range(1, m + 1):\n",
    "            score[i, j] = max(score[i, j - 1] + Right[i, j - 1], score[i - 1, j] + Down[i - 1, j])\n",
    "    return score[n, m]"
   ]
  },
  {
   "cell_type": "code",
   "execution_count": 2,
   "metadata": {},
   "outputs": [
    {
     "name": "stdout",
     "output_type": "stream",
     "text": [
      "53.0\n"
     ]
    }
   ],
   "source": [
    "with open('rosalind_ba5b.txt', 'r') as f:\n",
    "    n, m = [int(x) for x in f.readline().rstrip().split()]\n",
    "    Down = np.zeros([n, m+1])\n",
    "    for i in range(n):\n",
    "        Down[i] = [int(x) for x in f.readline().rstrip().split()]\n",
    "    f.readline()\n",
    "    Right = np.zeros([n+1, m])\n",
    "    for i in range(n+1):\n",
    "        Right[i] = [int(x) for x in f.readline().rstrip().split()]\n",
    "    print(ManhattanTourist(n, m, Down, Right))"
   ]
  }
 ],
 "metadata": {
  "kernelspec": {
   "display_name": "Python 3",
   "language": "python",
   "name": "python3"
  },
  "language_info": {
   "codemirror_mode": {
    "name": "ipython",
    "version": 3
   },
   "file_extension": ".py",
   "mimetype": "text/x-python",
   "name": "python",
   "nbconvert_exporter": "python",
   "pygments_lexer": "ipython3",
   "version": "3.7.0"
  }
 },
 "nbformat": 4,
 "nbformat_minor": 2
}
